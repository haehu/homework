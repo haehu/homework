{
 "cells": [
  {
   "cell_type": "code",
   "execution_count": 1,
   "id": "82b38866",
   "metadata": {},
   "outputs": [
    {
     "data": {
      "text/html": [
       "<div>\n",
       "<style scoped>\n",
       "    .dataframe tbody tr th:only-of-type {\n",
       "        vertical-align: middle;\n",
       "    }\n",
       "\n",
       "    .dataframe tbody tr th {\n",
       "        vertical-align: top;\n",
       "    }\n",
       "\n",
       "    .dataframe thead th {\n",
       "        text-align: right;\n",
       "    }\n",
       "</style>\n",
       "<table border=\"1\" class=\"dataframe\">\n",
       "  <thead>\n",
       "    <tr style=\"text-align: right;\">\n",
       "      <th></th>\n",
       "      <th>id</th>\n",
       "      <th>document</th>\n",
       "      <th>label</th>\n",
       "    </tr>\n",
       "  </thead>\n",
       "  <tbody>\n",
       "    <tr>\n",
       "      <th>0</th>\n",
       "      <td>9976970</td>\n",
       "      <td>아 더빙.. 진짜 짜증나네요 목소리</td>\n",
       "      <td>0</td>\n",
       "    </tr>\n",
       "    <tr>\n",
       "      <th>1</th>\n",
       "      <td>3819312</td>\n",
       "      <td>흠...포스터보고 초딩영화줄....오버연기조차 가볍지 않구나</td>\n",
       "      <td>1</td>\n",
       "    </tr>\n",
       "    <tr>\n",
       "      <th>2</th>\n",
       "      <td>10265843</td>\n",
       "      <td>너무재밓었다그래서보는것을추천한다</td>\n",
       "      <td>0</td>\n",
       "    </tr>\n",
       "    <tr>\n",
       "      <th>3</th>\n",
       "      <td>9045019</td>\n",
       "      <td>교도소 이야기구먼 ..솔직히 재미는 없다..평점 조정</td>\n",
       "      <td>0</td>\n",
       "    </tr>\n",
       "    <tr>\n",
       "      <th>4</th>\n",
       "      <td>6483659</td>\n",
       "      <td>사이몬페그의 익살스런 연기가 돋보였던 영화!스파이더맨에서 늙어보이기만 했던 커스틴 ...</td>\n",
       "      <td>1</td>\n",
       "    </tr>\n",
       "  </tbody>\n",
       "</table>\n",
       "</div>"
      ],
      "text/plain": [
       "         id                                           document  label\n",
       "0   9976970                                아 더빙.. 진짜 짜증나네요 목소리      0\n",
       "1   3819312                  흠...포스터보고 초딩영화줄....오버연기조차 가볍지 않구나      1\n",
       "2  10265843                                  너무재밓었다그래서보는것을추천한다      0\n",
       "3   9045019                      교도소 이야기구먼 ..솔직히 재미는 없다..평점 조정      0\n",
       "4   6483659  사이몬페그의 익살스런 연기가 돋보였던 영화!스파이더맨에서 늙어보이기만 했던 커스틴 ...      1"
      ]
     },
     "execution_count": 1,
     "metadata": {},
     "output_type": "execute_result"
    }
   ],
   "source": [
    "import pandas as pd\n",
    "\n",
    "# 데이터를 읽어봅시다. \n",
    "train_data = pd.read_table('~/aiffel/sentiment_classification/data/ratings_train.txt')\n",
    "test_data = pd.read_table('~/aiffel/sentiment_classification/data/ratings_test.txt')\n",
    "\n",
    "train_data.head()"
   ]
  },
  {
   "cell_type": "code",
   "execution_count": 2,
   "id": "42c361e6",
   "metadata": {},
   "outputs": [],
   "source": [
    "from konlpy.tag import Mecab\n",
    "import numpy as np\n",
    "from collections import Counter\n",
    "\n",
    "\n",
    "tokenizer = Mecab()\n",
    "stopwords = ['의','가','이','은','들','는','좀','잘','걍','과','도','를','으로','자','에','와','한','하다'] #불용어들"
   ]
  },
  {
   "cell_type": "code",
   "execution_count": 3,
   "id": "76c647ac",
   "metadata": {},
   "outputs": [],
   "source": [
    "def load_data(train_data, test_data, num_words=10000):\n",
    "    train_data.drop_duplicates(subset=['document'], inplace=True)#inplace=True 를 설정하면 DataFrame 타입 값을 return 하지 않고 data 내부를 직접적으로 바꿉\n",
    "    train_data = train_data.dropna(how = 'any') \n",
    "    test_data.drop_duplicates(subset=['document'], inplace=True)\n",
    "    test_data = test_data.dropna(how = 'any') \n",
    "    \n",
    "    X_train = []\n",
    "    for sentence in train_data['document']:\n",
    "        temp_X = tokenizer.morphs(sentence) # 토큰화\n",
    "        temp_X = [word for word in temp_X if not word in stopwords] # 불용어 제거\n",
    "        X_train.append(temp_X)\n",
    "\n",
    "    X_test = []\n",
    "    for sentence in test_data['document']:\n",
    "        temp_X = tokenizer.morphs(sentence) # 토큰화\n",
    "        temp_X = [word for word in temp_X if not word in stopwords] # 불용어 제거\n",
    "        X_test.append(temp_X)\n",
    "    \n",
    "    words = np.concatenate(X_train).tolist()\n",
    "    counter = Counter(words)\n",
    "    counter = counter.most_common(10000-4)\n",
    "    vocab = ['', '', '', ''] + [key for key, _ in counter]\n",
    "    word_to_index = {word:index for index, word in enumerate(vocab)}\n",
    "    \n",
    "    word_to_index[\"<PAD>\"] = 0              #사전의 몇 단어들을 정해준다.\n",
    "    word_to_index[\"<BOS>\"] = 1\n",
    "    word_to_index[\"<UNK>\"] = 2  # unknown\n",
    "    word_to_index[\"<UNUSED>\"] = 3\n",
    "        \n",
    "    def wordlist_to_indexlist(wordlist):\n",
    "        return [word_to_index[word] if word in word_to_index else word_to_index[''] for word in wordlist]\n",
    "        \n",
    "    X_train = list(map(wordlist_to_indexlist, X_train))\n",
    "    X_test = list(map(wordlist_to_indexlist, X_test))\n",
    "        \n",
    "    return X_train, np.array(list(train_data['label'])), X_test, np.array(list(test_data['label'])), word_to_index\n",
    "    \n",
    "X_train, y_train, X_test, y_test, word_to_index = load_data(train_data, test_data) "
   ]
  },
  {
   "cell_type": "code",
   "execution_count": 4,
   "id": "35e3e61d",
   "metadata": {},
   "outputs": [],
   "source": [
    "# 사전 딕셔너리 생성\n",
    "index_to_word = {index:word for word, index in word_to_index.items()}"
   ]
  },
  {
   "cell_type": "code",
   "execution_count": 5,
   "id": "70733145",
   "metadata": {},
   "outputs": [],
   "source": [
    "# 문장 1개를 활용할 딕셔너리와 함께 주면, 단어 인덱스 리스트 벡터로 변환해 주는 함수입니다. \n",
    "# 단, 모든 문장은 <BOS>로 시작하는 것으로 합니다. \n",
    "def get_encoded_sentence(sentence, word_to_index):\n",
    "    return [word_to_index['<BOS>']]+[word_to_index[word] if word in word_to_index else word_to_index['<UNK>'] for word in sentence.split()]\n",
    "\n",
    "# 여러 개의 문장 리스트를 한꺼번에 단어 인덱스 리스트 벡터로 encode해 주는 함수입니다. \n",
    "def get_encoded_sentences(sentences, word_to_index):\n",
    "    return [get_encoded_sentence(sentence, word_to_index) for sentence in sentences]\n",
    "\n",
    "# 숫자 벡터로 encode된 문장을 원래대로 decode하는 함수입니다. \n",
    "def get_decoded_sentence(encoded_sentence, index_to_word):\n",
    "    return ' '.join(index_to_word[index] if index in index_to_word else '<UNK>' for index in encoded_sentence[1:])  #[1:]를 통해 <BOS>를 제외\n",
    "\n",
    "# 여러 개의 숫자 벡터로 encode된 문장을 한꺼번에 원래대로 decode하는 함수입니다. \n",
    "def get_decoded_sentences(encoded_sentences, index_to_word):\n",
    "    return [get_decoded_sentence(encoded_sentence, index_to_word) for encoded_sentence in encoded_sentences]"
   ]
  },
  {
   "cell_type": "code",
   "execution_count": 6,
   "id": "21f1d385",
   "metadata": {},
   "outputs": [
    {
     "name": "stdout",
     "output_type": "stream",
     "text": [
      "문장길이 평균 :  15.96940191154864\n",
      "문장길이 최대 :  116\n",
      "문장길이 표준편차 :  12.843571191092\n"
     ]
    }
   ],
   "source": [
    "total_data_text = list(X_train) + list(X_test)\n",
    "# 텍스트데이터 문장길이의 리스트를 생성한 후\n",
    "num_tokens = [len(tokens) for tokens in total_data_text]\n",
    "num_tokens = np.array(num_tokens)\n",
    "# 문장길이의 평균값, 최대값, 표준편차를 계산해 본다. \n",
    "print('문장길이 평균 : ', np.mean(num_tokens))\n",
    "print('문장길이 최대 : ', np.max(num_tokens))\n",
    "print('문장길이 표준편차 : ', np.std(num_tokens))"
   ]
  },
  {
   "cell_type": "code",
   "execution_count": 7,
   "id": "5033eb48",
   "metadata": {},
   "outputs": [
    {
     "name": "stdout",
     "output_type": "stream",
     "text": [
      "pad_sequences maxlen :  41\n",
      "전체 문장의 0.9342988343341575%가 maxlen 설정값 이내에 포함됩니다. \n"
     ]
    }
   ],
   "source": [
    "max_tokens = np.mean(num_tokens) + 2 * np.std(num_tokens)\n",
    "maxlen = int(max_tokens)\n",
    "print('pad_sequences maxlen : ', maxlen)\n",
    "print('전체 문장의 {}%가 maxlen 설정값 이내에 포함됩니다. '.format(np.sum(num_tokens < max_tokens) / len(num_tokens)))#41길이를 맥스로 하여도\n",
    "#전체의 93프로 정도가 들어오게 되므로 적절한 수치 과도한 훈련을 줄이기 위해 범위를 41로 정해준다."
   ]
  },
  {
   "cell_type": "code",
   "execution_count": 8,
   "id": "85e1ef79",
   "metadata": {},
   "outputs": [
    {
     "name": "stdout",
     "output_type": "stream",
     "text": [
      "(146182, 41)\n",
      "(49157, 41)\n",
      "(146182, 41)\n",
      "(49157, 41)\n"
     ]
    }
   ],
   "source": [
    "import numpy as np\n",
    "import tensorflow as tf\n",
    "import os\n",
    "\n",
    "X_train_post = tf.keras.preprocessing.sequence.pad_sequences(X_train,\n",
    "                                                        value=word_to_index['<PAD>'],\n",
    "                                                        padding='post', # 혹은 'pre'\n",
    "                                                        maxlen=maxlen)\n",
    "\n",
    "X_test_post = tf.keras.preprocessing.sequence.pad_sequences(X_test,\n",
    "                                                       value=word_to_index['<PAD>'],\n",
    "                                                       padding='post', # 혹은 'pre'\n",
    "                                                       maxlen=maxlen)\n",
    "\n",
    "X_train_pre = tf.keras.preprocessing.sequence.pad_sequences(X_train,\n",
    "                                                        value=word_to_index['<PAD>'],\n",
    "                                                        padding='pre', # 혹은 'pre'\n",
    "                                                        maxlen=maxlen)\n",
    "\n",
    "X_test_pre = tf.keras.preprocessing.sequence.pad_sequences(X_test,\n",
    "                                                       value=word_to_index['<PAD>'],\n",
    "                                                       padding='pre',\n",
    "                                                       maxlen=maxlen)\n",
    "\n",
    "print(X_train_post.shape)\n",
    "print(X_test_post.shape)\n",
    "print(X_train_pre.shape)\n",
    "print(X_test_pre.shape)"
   ]
  },
  {
   "cell_type": "code",
   "execution_count": 9,
   "id": "ad135bc6",
   "metadata": {},
   "outputs": [
    {
     "name": "stdout",
     "output_type": "stream",
     "text": [
      "(98288, 41)\n",
      "(98288, 41)\n",
      "(98288,)\n"
     ]
    }
   ],
   "source": [
    "X_val_post = X_train_post[:47894]\n",
    "X_val_pre = X_train_pre[:47894]\n",
    "y_val = y_train[:47894]\n",
    "\n",
    "partial_X_train_post= X_train_post[47894:]\n",
    "partial_X_train_pre= X_train_pre[47894:]\n",
    "partial_y_train = y_train[47894:]\n",
    "\n",
    "print(partial_X_train_post.shape)\n",
    "print(partial_X_train_pre.shape)\n",
    "print(partial_y_train.shape)"
   ]
  },
  {
   "cell_type": "code",
   "execution_count": 10,
   "id": "5d4be6b9",
   "metadata": {},
   "outputs": [
    {
     "name": "stdout",
     "output_type": "stream",
     "text": [
      "<X_train_post>\n",
      "\n",
      "label: 0\n",
      "    encode: [ 32  74 919   4   4  39 228  20  33 748   0   0   0   0   0   0   0   0\n",
      "   0   0   0   0   0   0   0   0   0   0   0   0   0   0   0   0   0   0\n",
      "   0   0   0   0   0]\n",
      "    decode: 더 빙 . . 진짜 짜증 나 네요 목소리\n",
      "label: 1\n",
      "    encode: [1028    4   11  519  549  687    5  120    4   70 1639   52  925 1006\n",
      "   15   44  391    0    0    0    0    0    0    0    0    0    0    0\n",
      "    0    0    0    0    0    0    0    0    0    0    0    0    0]\n",
      "    decode: . .. 포스터 보고 초딩 영화 줄 . ... 오버 연기 조차 가볍 지 않 구나\n",
      "label: 0\n",
      "    encode: [ 24 205   3   0   0   0   0   0   0   0   0   0   0   0   0   0   0   0\n",
      "   0   0   0   0   0   0   0   0   0   0   0   0   0   0   0   0   0   0\n",
      "   0   0   0   0   0]\n",
      "    decode: 재 <UNUSED>\n",
      "label: 0\n",
      "    encode: [8409  158 3925    4    4  298   94   17    6    4    4   58 3479    0\n",
      "    0    0    0    0    0    0    0    0    0    0    0    0    0    0\n",
      "    0    0    0    0    0    0    0    0    0    0    0    0    0]\n",
      "    decode: 이야기 구먼 . . 솔직히 재미 없 다 . . 평점 조정\n",
      "<X_train_pre>\n",
      "\n",
      "label: 0\n",
      "    encode: [  0   0   0   0   0   0   0   0   0   0   0   0   0   0   0   0   0   0\n",
      "   0   0   0   0   0   0   0   0   0   0   0   0   0  32  74 919   4   4\n",
      "  39 228  20  33 748]\n",
      "    decode: 더 빙 . . 진짜 짜증 나 네요 목소리\n",
      "label: 1\n",
      "    encode: [   0    0    0    0    0    0    0    0    0    0    0    0    0    0\n",
      "    0    0    0    0    0    0    0    0    0    0 1028    4   11  519\n",
      "  549  687    5  120    4   70 1639   52  925 1006   15   44  391]\n",
      "    decode: . .. 포스터 보고 초딩 영화 줄 . ... 오버 연기 조차 가볍 지 않 구나\n",
      "label: 0\n",
      "    encode: [  0   0   0   0   0   0   0   0   0   0   0   0   0   0   0   0   0   0\n",
      "   0   0   0   0   0   0   0   0   0   0   0   0   0   0   0   0   0   0\n",
      "   0   0  24 205   3]\n",
      "    decode: 재 <UNUSED>\n",
      "label: 0\n",
      "    encode: [   0    0    0    0    0    0    0    0    0    0    0    0    0    0\n",
      "    0    0    0    0    0    0    0    0    0    0    0    0    0    0\n",
      " 8409  158 3925    4    4  298   94   17    6    4    4   58 3479]\n",
      "    decode: 이야기 구먼 . . 솔직히 재미 없 다 . . 평점 조정\n"
     ]
    }
   ],
   "source": [
    "print('<X_train_post>\\n')\n",
    "\n",
    "for i in range(4):                 #어떤형태로 된느지 for문으로 돌려봄\n",
    "    label = y_train[i]\n",
    "    encode = X_train_post[i]\n",
    "    decode = get_decoded_sentence(X_train[i], index_to_word)\n",
    "    print(f'label: {label}\\n\\\n",
    "    encode: {encode}\\n\\\n",
    "    decode: {decode}')\n",
    "\n",
    "\n",
    "print('<X_train_pre>\\n')\n",
    "\n",
    "for i in range(4):                 #어떤형태로 된느지 for문으로 돌려봄\n",
    "    label = y_train[i]\n",
    "    encode = X_train_pre[i]\n",
    "    decode = get_decoded_sentence(X_train[i], index_to_word)\n",
    "    print(f'label: {label}\\n\\\n",
    "    encode: {encode}\\n\\\n",
    "    decode: {decode}')"
   ]
  },
  {
   "cell_type": "code",
   "execution_count": 11,
   "id": "181df49b",
   "metadata": {},
   "outputs": [
    {
     "name": "stdout",
     "output_type": "stream",
     "text": [
      "Model: \"sequential\"\n",
      "_________________________________________________________________\n",
      "Layer (type)                 Output Shape              Param #   \n",
      "=================================================================\n",
      "embedding (Embedding)        (None, None, 16)          160016    \n",
      "_________________________________________________________________\n",
      "conv1d (Conv1D)              (None, None, 16)          1808      \n",
      "_________________________________________________________________\n",
      "max_pooling1d (MaxPooling1D) (None, None, 16)          0         \n",
      "_________________________________________________________________\n",
      "conv1d_1 (Conv1D)            (None, None, 16)          1808      \n",
      "_________________________________________________________________\n",
      "global_max_pooling1d (Global (None, 16)                0         \n",
      "_________________________________________________________________\n",
      "dense (Dense)                (None, 8)                 136       \n",
      "_________________________________________________________________\n",
      "dense_1 (Dense)              (None, 1)                 9         \n",
      "=================================================================\n",
      "Total params: 163,777\n",
      "Trainable params: 163,777\n",
      "Non-trainable params: 0\n",
      "_________________________________________________________________\n"
     ]
    }
   ],
   "source": [
    "vocab_size = len(word_to_index)   # 어휘 사전의 크기 노드중에 10000개 정도면 적절하다는 설명이 있어서 만개로 함\n",
    "word_vector_dim = 16  # 워드 벡터의 차원 수 변경 가능하지만 그렇게 변경하지는 않았따.\n",
    "\n",
    "model_CNN = tf.keras.Sequential()#CNN모델을 사용\n",
    "model_CNN.add(tf.keras.layers.Embedding(vocab_size, word_vector_dim, input_shape=(None,)))\n",
    "model_CNN.add(tf.keras.layers.Conv1D(16, 7, activation='relu'))\n",
    "model_CNN.add(tf.keras.layers.MaxPooling1D(5))\n",
    "model_CNN.add(tf.keras.layers.Conv1D(16, 7, activation='relu'))\n",
    "model_CNN.add(tf.keras.layers.GlobalMaxPooling1D())\n",
    "model_CNN.add(tf.keras.layers.Dense(8, activation='relu'))\n",
    "model_CNN.add(tf.keras.layers.Dense(1, activation='sigmoid')) \n",
    "\n",
    "model_CNN.summary()"
   ]
  },
  {
   "cell_type": "code",
   "execution_count": 12,
   "id": "5dee998b",
   "metadata": {},
   "outputs": [
    {
     "name": "stdout",
     "output_type": "stream",
     "text": [
      "Model: \"sequential_1\"\n",
      "_________________________________________________________________\n",
      "Layer (type)                 Output Shape              Param #   \n",
      "=================================================================\n",
      "embedding_1 (Embedding)      (None, None, 16)          160016    \n",
      "_________________________________________________________________\n",
      "global_max_pooling1d_1 (Glob (None, 16)                0         \n",
      "_________________________________________________________________\n",
      "dense_2 (Dense)              (None, 8)                 136       \n",
      "_________________________________________________________________\n",
      "dense_3 (Dense)              (None, 1)                 9         \n",
      "=================================================================\n",
      "Total params: 160,161\n",
      "Trainable params: 160,161\n",
      "Non-trainable params: 0\n",
      "_________________________________________________________________\n"
     ]
    }
   ],
   "source": [
    "model_G = tf.keras.Sequential()#GlobalMaxPooling 모댈을 사용\n",
    "model_G.add(tf.keras.layers.Embedding(vocab_size, word_vector_dim, input_shape=(None,)))\n",
    "model_G.add(tf.keras.layers.GlobalMaxPooling1D())\n",
    "model_G.add(tf.keras.layers.Dense(8, activation='relu'))\n",
    "model_G.add(tf.keras.layers.Dense(1, activation='sigmoid'))\n",
    "\n",
    "model_G.summary()"
   ]
  },
  {
   "cell_type": "code",
   "execution_count": 13,
   "id": "e89c5e27",
   "metadata": {},
   "outputs": [
    {
     "name": "stdout",
     "output_type": "stream",
     "text": [
      "Model: \"sequential_2\"\n",
      "_________________________________________________________________\n",
      "Layer (type)                 Output Shape              Param #   \n",
      "=================================================================\n",
      "embedding_2 (Embedding)      (None, None, 16)          160016    \n",
      "_________________________________________________________________\n",
      "lstm (LSTM)                  (None, 8)                 800       \n",
      "_________________________________________________________________\n",
      "dense_4 (Dense)              (None, 8)                 72        \n",
      "_________________________________________________________________\n",
      "dense_5 (Dense)              (None, 1)                 9         \n",
      "=================================================================\n",
      "Total params: 160,897\n",
      "Trainable params: 160,897\n",
      "Non-trainable params: 0\n",
      "_________________________________________________________________\n"
     ]
    }
   ],
   "source": [
    "model_RNN = tf.keras.Sequential()#RNN 모델을 사용하였다.\n",
    "model_RNN.add(tf.keras.layers.Embedding(vocab_size, word_vector_dim, input_shape=(None,)))\n",
    "model_RNN.add(tf.keras.layers.LSTM(8))   # 가장 널리 쓰이는 RNN인 LSTM 레이어를 사용, LSTM state 벡터의 차원수는 8로 하였습니다. (변경 가능)\n",
    "model_RNN.add(tf.keras.layers.Dense(8, activation='relu'))\n",
    "model_RNN.add(tf.keras.layers.Dense(1, activation='sigmoid'))  # 최종 출력은 긍정/부정을 나타내는 1dim\n",
    "\n",
    "model_RNN.summary()"
   ]
  },
  {
   "cell_type": "code",
   "execution_count": 14,
   "id": "3e6b88e0",
   "metadata": {},
   "outputs": [
    {
     "name": "stdout",
     "output_type": "stream",
     "text": [
      "Epoch 1/20\n",
      "192/192 [==============================] - 4s 7ms/step - loss: 0.5109 - accuracy: 0.7442 - val_loss: 0.3666 - val_accuracy: 0.8409\n",
      "Epoch 2/20\n",
      "192/192 [==============================] - 1s 5ms/step - loss: 0.3401 - accuracy: 0.8558 - val_loss: 0.3513 - val_accuracy: 0.8464\n",
      "Epoch 3/20\n",
      "192/192 [==============================] - 1s 5ms/step - loss: 0.3049 - accuracy: 0.8743 - val_loss: 0.3473 - val_accuracy: 0.8483\n",
      "Epoch 4/20\n",
      "192/192 [==============================] - 1s 5ms/step - loss: 0.2789 - accuracy: 0.8865 - val_loss: 0.3516 - val_accuracy: 0.8487\n",
      "Epoch 5/20\n",
      "192/192 [==============================] - 1s 5ms/step - loss: 0.2521 - accuracy: 0.8997 - val_loss: 0.3638 - val_accuracy: 0.8469\n",
      "Epoch 00005: early stopping\n",
      "1537/1537 - 2s - loss: 0.3787 - accuracy: 0.8407\n",
      "[0.3786599934101105, 0.8406534194946289]\n"
     ]
    }
   ],
   "source": [
    "from tensorflow.python.keras.callbacks import EarlyStopping\n",
    "model_CNN.compile(optimizer='adam',\n",
    "              loss='binary_crossentropy',\n",
    "              metrics=['accuracy'])\n",
    "              \n",
    "epochs=20  # 적당히 20으로 두어봤다.\n",
    "es = EarlyStopping(monitor='val_loss', patience=2, verbose=1) #2번이상 수치가 떨어지면 멈추는 메소드를 활용해서 오버피팅을 방지하였다.\n",
    "                                                            #8노드 활용\n",
    "history_Cpost = model_CNN.fit(partial_X_train_post,\n",
    "                    partial_y_train,\n",
    "                    epochs=epochs,\n",
    "                    batch_size=512,\n",
    "                    validation_data=(X_val_post, y_val),callbacks=[es],                     \n",
    "                    verbose=1)\n",
    "\n",
    "results = model_CNN.evaluate(X_test_post,  y_test, verbose=2)\n",
    "\n",
    "print(results)"
   ]
  },
  {
   "cell_type": "code",
   "execution_count": 15,
   "id": "19920d90",
   "metadata": {},
   "outputs": [
    {
     "name": "stdout",
     "output_type": "stream",
     "text": [
      "Epoch 1/20\n",
      "192/192 [==============================] - 1s 6ms/step - loss: 0.2847 - accuracy: 0.8819 - val_loss: 0.3642 - val_accuracy: 0.8438\n",
      "Epoch 2/20\n",
      "192/192 [==============================] - 1s 5ms/step - loss: 0.2355 - accuracy: 0.9076 - val_loss: 0.3842 - val_accuracy: 0.8414\n",
      "Epoch 3/20\n",
      "192/192 [==============================] - 1s 5ms/step - loss: 0.1991 - accuracy: 0.9260 - val_loss: 0.4044 - val_accuracy: 0.8402\n",
      "Epoch 00003: early stopping\n",
      "1537/1537 - 2s - loss: 0.4157 - accuracy: 0.8364\n",
      "[0.41565003991127014, 0.8364017605781555]\n"
     ]
    }
   ],
   "source": [
    "history_Cpre = model_CNN.fit(partial_X_train_pre,\n",
    "                    partial_y_train,\n",
    "                    epochs=epochs,\n",
    "                    batch_size=512,\n",
    "                    validation_data=(X_val_pre, y_val),callbacks=[es],                     \n",
    "                    verbose=1)\n",
    "\n",
    "results = model_CNN.evaluate(X_test_pre,  y_test, verbose=2)\n",
    "\n",
    "print(results)"
   ]
  },
  {
   "cell_type": "code",
   "execution_count": 16,
   "id": "8b9aca78",
   "metadata": {},
   "outputs": [
    {
     "name": "stdout",
     "output_type": "stream",
     "text": [
      "Epoch 1/20\n",
      "192/192 [==============================] - 1s 4ms/step - loss: 0.6351 - accuracy: 0.7130 - val_loss: 0.5110 - val_accuracy: 0.8080\n",
      "Epoch 2/20\n",
      "192/192 [==============================] - 1s 4ms/step - loss: 0.4214 - accuracy: 0.8288 - val_loss: 0.3794 - val_accuracy: 0.8337\n",
      "Epoch 3/20\n",
      "192/192 [==============================] - 1s 4ms/step - loss: 0.3448 - accuracy: 0.8540 - val_loss: 0.3593 - val_accuracy: 0.8415\n",
      "Epoch 4/20\n",
      "192/192 [==============================] - 1s 4ms/step - loss: 0.3119 - accuracy: 0.8694 - val_loss: 0.3552 - val_accuracy: 0.8442\n",
      "Epoch 5/20\n",
      "192/192 [==============================] - 1s 4ms/step - loss: 0.2890 - accuracy: 0.8800 - val_loss: 0.3573 - val_accuracy: 0.8441\n",
      "Epoch 6/20\n",
      "192/192 [==============================] - 1s 4ms/step - loss: 0.2710 - accuracy: 0.8886 - val_loss: 0.3635 - val_accuracy: 0.8437\n",
      "Epoch 00006: early stopping\n",
      "1537/1537 - 2s - loss: 0.3707 - accuracy: 0.8405\n"
     ]
    }
   ],
   "source": [
    "model_G.compile(optimizer='adam',\n",
    "              loss='binary_crossentropy',\n",
    "              metrics=['accuracy'])\n",
    "              \n",
    "epochs=20 \n",
    "\n",
    "history_Gpost = model_G.fit(partial_X_train_post,\n",
    "                    partial_y_train,\n",
    "                    epochs=epochs,\n",
    "                    batch_size=512,callbacks=[es],\n",
    "                    validation_data=(X_val_post, y_val),\n",
    "                    verbose=1)\n",
    "\n",
    "results = model_G.evaluate(X_test_post,  y_test, verbose=2)"
   ]
  },
  {
   "cell_type": "code",
   "execution_count": 17,
   "id": "6f077926",
   "metadata": {},
   "outputs": [
    {
     "name": "stdout",
     "output_type": "stream",
     "text": [
      "Epoch 1/20\n",
      "192/192 [==============================] - 1s 4ms/step - loss: 0.2557 - accuracy: 0.8957 - val_loss: 0.3715 - val_accuracy: 0.8429\n",
      "Epoch 2/20\n",
      "192/192 [==============================] - 1s 4ms/step - loss: 0.2426 - accuracy: 0.9023 - val_loss: 0.3798 - val_accuracy: 0.8411\n",
      "Epoch 3/20\n",
      "192/192 [==============================] - 1s 4ms/step - loss: 0.2308 - accuracy: 0.9077 - val_loss: 0.3903 - val_accuracy: 0.8401\n",
      "Epoch 00003: early stopping\n",
      "1537/1537 - 2s - loss: 0.3962 - accuracy: 0.8370\n"
     ]
    }
   ],
   "source": [
    "epochs=20  \n",
    "\n",
    "histor_Gpre = model_G.fit(partial_X_train_pre,\n",
    "                    partial_y_train,\n",
    "                    epochs=epochs,\n",
    "                    batch_size=512,\n",
    "                    validation_data=(X_val_pre, y_val),callbacks=[es],\n",
    "                    verbose=1)\n",
    "\n",
    "results = model_G.evaluate(X_test_pre,  y_test, verbose=2)"
   ]
  },
  {
   "cell_type": "code",
   "execution_count": 18,
   "id": "1fbbd6ad",
   "metadata": {},
   "outputs": [
    {
     "name": "stdout",
     "output_type": "stream",
     "text": [
      "Epoch 1/20\n",
      "192/192 [==============================] - 3s 8ms/step - loss: 0.6650 - accuracy: 0.5611 - val_loss: 0.5610 - val_accuracy: 0.8096\n",
      "Epoch 2/20\n",
      "192/192 [==============================] - 1s 6ms/step - loss: 0.3995 - accuracy: 0.8336 - val_loss: 0.4229 - val_accuracy: 0.8448\n",
      "Epoch 3/20\n",
      "192/192 [==============================] - 1s 6ms/step - loss: 0.3281 - accuracy: 0.8620 - val_loss: 0.4035 - val_accuracy: 0.8408\n",
      "Epoch 4/20\n",
      "192/192 [==============================] - 1s 6ms/step - loss: 0.3103 - accuracy: 0.8704 - val_loss: 0.4070 - val_accuracy: 0.8246\n",
      "Epoch 5/20\n",
      "192/192 [==============================] - 1s 6ms/step - loss: 0.2972 - accuracy: 0.8759 - val_loss: 0.3872 - val_accuracy: 0.8469\n",
      "Epoch 6/20\n",
      "192/192 [==============================] - 1s 6ms/step - loss: 0.2889 - accuracy: 0.8788 - val_loss: 0.3905 - val_accuracy: 0.8411\n",
      "Epoch 7/20\n",
      "192/192 [==============================] - 1s 6ms/step - loss: 0.2778 - accuracy: 0.8835 - val_loss: 0.3841 - val_accuracy: 0.8449\n",
      "Epoch 8/20\n",
      "192/192 [==============================] - 1s 6ms/step - loss: 0.2693 - accuracy: 0.8850 - val_loss: 0.3972 - val_accuracy: 0.8279\n",
      "Epoch 9/20\n",
      "192/192 [==============================] - 1s 6ms/step - loss: 0.2590 - accuracy: 0.8874 - val_loss: 0.3925 - val_accuracy: 0.8374\n",
      "Epoch 00009: early stopping\n",
      "1537/1537 - 3s - loss: 0.4025 - accuracy: 0.8376\n"
     ]
    }
   ],
   "source": [
    "model_RNN.compile(optimizer='adam',\n",
    "              loss='binary_crossentropy',\n",
    "              metrics=['accuracy'])\n",
    "              \n",
    "epochs=20  \n",
    "\n",
    "history_Rpost = model_RNN.fit(partial_X_train_post,\n",
    "                    partial_y_train,\n",
    "                    epochs=epochs,\n",
    "                    batch_size=512,\n",
    "                    validation_data=(X_val_pre, y_val),callbacks=[es],\n",
    "                    verbose=1)\n",
    "\n",
    "results = model_RNN.evaluate(X_test_post,  y_test, verbose=2)"
   ]
  },
  {
   "cell_type": "code",
   "execution_count": 19,
   "id": "d18c9642",
   "metadata": {},
   "outputs": [
    {
     "name": "stdout",
     "output_type": "stream",
     "text": [
      "Epoch 1/20\n",
      "192/192 [==============================] - 1s 6ms/step - loss: 0.2731 - accuracy: 0.8883 - val_loss: 0.3822 - val_accuracy: 0.8445\n",
      "Epoch 2/20\n",
      "192/192 [==============================] - 1s 6ms/step - loss: 0.2541 - accuracy: 0.8940 - val_loss: 0.4046 - val_accuracy: 0.8441\n",
      "Epoch 3/20\n",
      "192/192 [==============================] - 1s 6ms/step - loss: 0.2461 - accuracy: 0.8961 - val_loss: 0.3980 - val_accuracy: 0.8426\n",
      "Epoch 00003: early stopping\n",
      "1537/1537 - 3s - loss: 0.4043 - accuracy: 0.8389\n"
     ]
    }
   ],
   "source": [
    "epochs=20  \n",
    "\n",
    "history_Rpre = model_RNN.fit(partial_X_train_pre,\n",
    "                    partial_y_train,\n",
    "                    epochs=epochs,\n",
    "                    batch_size=512,\n",
    "                    validation_data=(X_val_pre, y_val),callbacks=[es],\n",
    "                    verbose=1)\n",
    "\n",
    "results = model_RNN.evaluate(X_test_pre,  y_test, verbose=2)"
   ]
  },
  {
   "cell_type": "code",
   "execution_count": 20,
   "id": "232e0b3d",
   "metadata": {},
   "outputs": [
    {
     "name": "stderr",
     "output_type": "stream",
     "text": [
      "No handles with labels found to put in legend.\n"
     ]
    },
    {
     "data": {
      "image/png": "[encoded data removed]",
      "text/plain": [
       "<Figure size 864x576 with 1 Axes>"
      ]
     },
     "metadata": {
      "needs_background": "light"
     },
     "output_type": "display_data"
    },
    {
     "name": "stderr",
     "output_type": "stream",
     "text": [
      "No handles with labels found to put in legend.\n"
     ]
    },
    {
     "data": {
      "image/png": "[encoded data removed]",
      "text/plain": [
       "<Figure size 432x288 with 1 Axes>"
      ]
     },
     "metadata": {
      "needs_background": "light"
     },
     "output_type": "display_data"
    }
   ],
   "source": [
    "import matplotlib.pyplot as plt\n",
    "\n",
    "history_Cpost_dict=history_Cpost.history\n",
    "\n",
    "acc = history_Cpost_dict['accuracy']\n",
    "val_acc = history_Cpost_dict['val_accuracy']\n",
    "loss = history_Cpost_dict['loss']\n",
    "val_loss = history_Cpost_dict['val_loss']\n",
    "\n",
    "epochs = range(1, len(acc) + 1)\n",
    "\n",
    "plt.figure(figsize=(12,8))\n",
    "\n",
    "\n",
    "plt.plot(epochs, loss, 'r', label='Training loss')\n",
    "plt.plot(epochs, val_loss, 'b', label='Validation loss')\n",
    "plt.subplot(1,2,1)\n",
    "plt.title('Training and validation loss')\n",
    "plt.xlabel('Epochs')\n",
    "plt.ylabel('Loss')\n",
    "plt.legend()\n",
    "\n",
    "plt.show()\n",
    "\n",
    "plt.plot(epochs, acc, 'r', label='Training acc')\n",
    "plt.plot(epochs, val_acc, 'b', label='Validation acc')\n",
    "plt.subplot(1,2,2)\n",
    "plt.title('Training and validation accuracy')\n",
    "plt.xlabel('Epochs')\n",
    "plt.ylabel('Accuracy')\n",
    "plt.legend()\n",
    "\n",
    "plt.show()"
   ]
  },
  {
   "cell_type": "code",
   "execution_count": 21,
   "id": "7fa6c622",
   "metadata": {},
   "outputs": [
    {
     "name": "stderr",
     "output_type": "stream",
     "text": [
      "No handles with labels found to put in legend.\n"
     ]
    },
    {
     "data": {
      "image/png": "[encoded data removed]",
      "text/plain": [
       "<Figure size 864x576 with 1 Axes>"
      ]
     },
     "metadata": {
      "needs_background": "light"
     },
     "output_type": "display_data"
    },
    {
     "name": "stderr",
     "output_type": "stream",
     "text": [
      "No handles with labels found to put in legend.\n"
     ]
    },
    {
     "data": {
      "image/png": "[encoded data removed]",
      "text/plain": [
       "<Figure size 432x288 with 1 Axes>"
      ]
     },
     "metadata": {
      "needs_background": "light"
     },
     "output_type": "display_data"
    }
   ],
   "source": [
    "history_Cpre_dict=history_Cpre.history\n",
    "\n",
    "acc = history_Cpre_dict['accuracy']\n",
    "val_acc = history_Cpre_dict['val_accuracy']\n",
    "loss = history_Cpre_dict['loss']\n",
    "val_loss = history_Cpre_dict['val_loss']\n",
    "\n",
    "epochs = range(1, len(acc) + 1)\n",
    "\n",
    "plt.figure(figsize=(12,8))\n",
    "\n",
    "plt.plot(epochs, loss, 'r', label='Training loss')\n",
    "plt.plot(epochs, val_loss, 'b', label='Validation loss')\n",
    "plt.subplot(1,2,1)\n",
    "plt.title('Training and validation loss')\n",
    "plt.xlabel('Epochs')\n",
    "plt.ylabel('Loss')\n",
    "plt.legend()\n",
    "\n",
    "plt.show()\n",
    "\n",
    "plt.plot(epochs, acc, 'r', label='Training acc')\n",
    "plt.plot(epochs, val_acc, 'b', label='Validation acc')\n",
    "plt.subplot(1,2,2)\n",
    "plt.title('Training and validation accuracy')\n",
    "plt.xlabel('Epochs')\n",
    "plt.ylabel('Accuracy')\n",
    "plt.legend()\n",
    "\n",
    "plt.show()"
   ]
  },
  {
   "cell_type": "code",
   "execution_count": 22,
   "id": "e6b949be",
   "metadata": {},
   "outputs": [
    {
     "name": "stderr",
     "output_type": "stream",
     "text": [
      "No handles with labels found to put in legend.\n"
     ]
    },
    {
     "data": {
      "image/png": "[encoded data removed]",
      "text/plain": [
       "<Figure size 864x576 with 1 Axes>"
      ]
     },
     "metadata": {
      "needs_background": "light"
     },
     "output_type": "display_data"
    },
    {
     "name": "stderr",
     "output_type": "stream",
     "text": [
      "No handles with labels found to put in legend.\n"
     ]
    },
    {
     "data": {
      "image/png": "[encoded data removed]",
      "text/plain": [
       "<Figure size 432x288 with 1 Axes>"
      ]
     },
     "metadata": {
      "needs_background": "light"
     },
     "output_type": "display_data"
    }
   ],
   "source": [
    "history_Gpost_dict=history_Gpost.history\n",
    "acc = history_Gpost_dict['accuracy']\n",
    "val_acc = history_Gpost_dict['val_accuracy']\n",
    "loss = history_Gpost_dict['loss']\n",
    "val_loss = history_Gpost_dict['val_loss']\n",
    "\n",
    "epochs = range(1, len(acc) + 1)\n",
    "\n",
    "plt.figure(figsize=(12,8))\n",
    "\n",
    "plt.plot(epochs, loss, 'r', label='Training loss')\n",
    "plt.plot(epochs, val_loss, 'b', label='Validation loss')\n",
    "plt.subplot(1,2,1)\n",
    "plt.title('Training and validation loss')\n",
    "plt.xlabel('Epochs')\n",
    "plt.ylabel('Loss')\n",
    "plt.legend()\n",
    "\n",
    "plt.show()\n",
    "\n",
    "plt.clf() \n",
    "\n",
    "plt.plot(epochs, acc, 'r', label='Training acc')\n",
    "plt.plot(epochs, val_acc, 'b', label='Validation acc')\n",
    "plt.subplot(1,2,2)\n",
    "plt.title('Training and validation accuracy')\n",
    "plt.xlabel('Epochs')\n",
    "plt.ylabel('Accuracy')\n",
    "plt.legend()\n",
    "\n",
    "plt.show()"
   ]
  },
  {
   "cell_type": "code",
   "execution_count": 23,
   "id": "5ff4ed8a",
   "metadata": {},
   "outputs": [
    {
     "ename": "NameError",
     "evalue": "name 'history_Gpre' is not defined",
     "output_type": "error",
     "traceback": [
      "\u001b[0;31m---------------------------------------------------------------------------\u001b[0m",
      "\u001b[0;31mNameError\u001b[0m                                 Traceback (most recent call last)",
      "\u001b[0;32m/tmp/ipykernel_2314/16597091.py\u001b[0m in \u001b[0;36m<module>\u001b[0;34m\u001b[0m\n\u001b[0;32m----> 1\u001b[0;31m \u001b[0mhistory_Gpre_dict\u001b[0m\u001b[0;34m=\u001b[0m\u001b[0mhistory_Gpre\u001b[0m\u001b[0;34m.\u001b[0m\u001b[0mhistory\u001b[0m\u001b[0;34m\u001b[0m\u001b[0;34m\u001b[0m\u001b[0m\n\u001b[0m\u001b[1;32m      2\u001b[0m \u001b[0macc\u001b[0m \u001b[0;34m=\u001b[0m \u001b[0mhistory_Gpre_dict\u001b[0m\u001b[0;34m[\u001b[0m\u001b[0;34m'accuracy'\u001b[0m\u001b[0;34m]\u001b[0m\u001b[0;34m\u001b[0m\u001b[0;34m\u001b[0m\u001b[0m\n\u001b[1;32m      3\u001b[0m \u001b[0mval_acc\u001b[0m \u001b[0;34m=\u001b[0m \u001b[0mhistory_Gpre_dict\u001b[0m\u001b[0;34m[\u001b[0m\u001b[0;34m'val_accuracy'\u001b[0m\u001b[0;34m]\u001b[0m\u001b[0;34m\u001b[0m\u001b[0;34m\u001b[0m\u001b[0m\n\u001b[1;32m      4\u001b[0m \u001b[0mloss\u001b[0m \u001b[0;34m=\u001b[0m \u001b[0mhistory_Gpre_dict\u001b[0m\u001b[0;34m[\u001b[0m\u001b[0;34m'loss'\u001b[0m\u001b[0;34m]\u001b[0m\u001b[0;34m\u001b[0m\u001b[0;34m\u001b[0m\u001b[0m\n\u001b[1;32m      5\u001b[0m \u001b[0mval_loss\u001b[0m \u001b[0;34m=\u001b[0m \u001b[0mhistory_Gpre_dict\u001b[0m\u001b[0;34m[\u001b[0m\u001b[0;34m'val_loss'\u001b[0m\u001b[0;34m]\u001b[0m\u001b[0;34m\u001b[0m\u001b[0;34m\u001b[0m\u001b[0m\n",
      "\u001b[0;31mNameError\u001b[0m: name 'history_Gpre' is not defined"
     ]
    }
   ],
   "source": [
    "history_Gpre_dict=history_Gpre.history\n",
    "acc = history_Gpre_dict['accuracy']\n",
    "val_acc = history_Gpre_dict['val_accuracy']\n",
    "loss = history_Gpre_dict['loss']\n",
    "val_loss = history_Gpre_dict['val_loss']\n",
    "\n",
    "epochs = range(1, len(acc) + 1)\n",
    "\n",
    "plt.figure(figsize=(12,8))\n",
    "\n",
    "plt.plot(epochs, loss, 'r', label='Training loss')\n",
    "plt.plot(epochs, val_loss, 'b', label='Validation loss')\n",
    "plt.subplot(1,2,1)\n",
    "plt.title('Training and validation loss')\n",
    "plt.xlabel('Epochs')\n",
    "plt.ylabel('Loss')\n",
    "plt.legend()\n",
    "\n",
    "plt.show()\n",
    "\n",
    "plt.clf() \n",
    "\n",
    "plt.plot(epochs, acc, 'r', label='Training acc')\n",
    "plt.plot(epochs, val_acc, 'b', label='Validation acc')\n",
    "plt.subplot(1,2,2)\n",
    "plt.title('Training and validation accuracy')\n",
    "plt.xlabel('Epochs')\n",
    "plt.ylabel('Accuracy')\n",
    "plt.legend()\n",
    "\n",
    "plt.show()"
   ]
  },
  {
   "cell_type": "code",
   "execution_count": null,
   "id": "51e4f646",
   "metadata": {},
   "outputs": [],
   "source": [
    "history_Rpost_dict=historyy_Rpost.history\n",
    "acc = historyy_Rpost_dict['accuracy']\n",
    "val_acc = historyy_Rpost_dict['val_accuracy']\n",
    "loss = historyy_Rpost_dict['loss']\n",
    "val_loss = historyy_Rpost_dict['val_loss']\n",
    "\n",
    "epochs = range(1, len(acc) + 1)\n",
    "\n",
    "plt.figure(figsize=(12,8))\n",
    "\n",
    "plt.plot(epochs, loss, 'r', label='Training loss')\n",
    "plt.plot(epochs, val_loss, 'b', label='Validation loss')\n",
    "plt.subplot(1,2,1)\n",
    "plt.title('Training and validation loss')\n",
    "plt.xlabel('Epochs')\n",
    "plt.ylabel('Loss')\n",
    "plt.legend()\n",
    "\n",
    "plt.show()\n",
    "\n",
    "plt.clf()\n",
    "\n",
    "plt.plot(epochs, acc, 'r', label='Training acc')\n",
    "plt.plot(epochs, val_acc, 'b', label='Validation acc')\n",
    "plt.subplot(1,2,2)\n",
    "plt.title('Training and validation accuracy')\n",
    "plt.xlabel('Epochs')\n",
    "plt.ylabel('Accuracy')\n",
    "plt.legend()\n",
    "\n",
    "plt.show()"
   ]
  },
  {
   "cell_type": "code",
   "execution_count": null,
   "id": "64f0b5b0",
   "metadata": {},
   "outputs": [],
   "source": [
    "history_Rpre_dict=historyy_Rpre.history\n",
    "acc = historyy_Rpre_dict['accuracy']\n",
    "val_acc = historyy_Rpre_dict['val_accuracy']\n",
    "loss = historyy_Rpre_dict['loss']\n",
    "val_loss = historyy_Rpre_dict['val_loss']\n",
    "\n",
    "epochs = range(1, len(acc) + 1)\n",
    "\n",
    "plt.figure(figsize=(12,8))\n",
    "\n",
    "plt.plot(epochs, loss, 'r', label='Training loss')\n",
    "plt.plot(epochs, val_loss, 'b', label='Validation loss')\n",
    "plt.title('Training and validation loss')\n",
    "plt.xlabel('Epochs')\n",
    "plt.ylabel('Loss')\n",
    "plt.legend()\n",
    "\n",
    "plt.show()\n",
    "\n",
    "plt.clf()\n",
    "\n",
    "plt.plot(epochs, acc, 'r', label='Training acc')\n",
    "plt.plot(epochs, val_acc, 'b', label='Validation acc')\n",
    "plt.title('Training and validation accuracy')\n",
    "plt.xlabel('Epochs')\n",
    "plt.ylabel('Accuracy')\n",
    "plt.legend()\n",
    "\n",
    "plt.show()"
   ]
  },
  {
   "cell_type": "code",
   "execution_count": null,
   "id": "0bee180f",
   "metadata": {},
   "outputs": [],
   "source": [
    "embedding_result_dict = {\n",
    "    \"Model\": ['CNN','GlobalMaxPolling' 'RNN']\n",
    "    \"Post_acc\": [0.8436, 0.8401,0.8376]\n",
    "    \"Pre_acc\": [0.8397, 0.8379, 0.8369]\n",
    "    \"Post_loss\": [0.3669, 0.3998, 0.3737]\n",
    "    \"Pre_loss\": [0.4098,0.3998,0.3799]\n",
    "}\n",
    "embedding_result_df = pd.DataFrame(embedding_result_dict, index=['CNN','GlobalMaxPolling' 'RNN'])\n",
    "embedding_result_df.plotbarh(figsize=(10, 5)) \n",
    "embedding_result_df"
   ]
  },
  {
   "cell_type": "code",
   "execution_count": null,
   "id": "2cd0ed6b",
   "metadata": {},
   "outputs": [],
   "source": []
  }
 ],
 "metadata": {
  "kernelspec": {
   "display_name": "Python 3 (ipykernel)",
   "language": "python",
   "name": "python3"
  },
  "language_info": {
   "codemirror_mode": {
    "name": "ipython",
    "version": 3
   },
   "file_extension": ".py",
   "mimetype": "text/x-python",
   "name": "python",
   "nbconvert_exporter": "python",
   "pygments_lexer": "ipython3",
   "version": "3.9.7"
  }
 },
 "nbformat": 4,
 "nbformat_minor": 5
}
