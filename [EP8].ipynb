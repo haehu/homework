{
 "cells": [
  {
   "cell_type": "code",
   "execution_count": 1,
   "id": "1d8e8f37",
   "metadata": {},
   "outputs": [
    {
     "name": "stderr",
     "output_type": "stream",
     "text": [
      "[nltk_data] Downloading package stopwords to /aiffel/nltk_data...\n",
      "[nltk_data]   Package stopwords is already up-to-date!\n"
     ]
    },
    {
     "name": "stdout",
     "output_type": "stream",
     "text": [
      "=3\n"
     ]
    }
   ],
   "source": [
    "import nltk\n",
    "nltk.download('stopwords')\n",
    "\n",
    "import numpy as np\n",
    "import pandas as pd\n",
    "import os\n",
    "import re\n",
    "import matplotlib.pyplot as plt\n",
    "from nltk.corpus import stopwords\n",
    "from bs4 import BeautifulSoup \n",
    "from tensorflow.keras.preprocessing.text import Tokenizer \n",
    "from tensorflow.keras.preprocessing.sequence import pad_sequences\n",
    "import urllib.request\n",
    "import warnings\n",
    "warnings.filterwarnings(\"ignore\", category=UserWarning, module='bs4')\n",
    "\n",
    "print('=3')"
   ]
  },
  {
   "cell_type": "code",
   "execution_count": 2,
   "id": "4eb4773a",
   "metadata": {},
   "outputs": [],
   "source": [
    "import urllib.request\n",
    "urllib.request.urlretrieve(\"https://raw.githubusercontent.com/sunnysai12345/News_Summary/master/news_summary_more.csv\", filename=\"news_summary_more.csv\")\n",
    "data = pd.read_csv('news_summary_more.csv', encoding='iso-8859-1')"
   ]
  },
  {
   "cell_type": "code",
   "execution_count": 3,
   "id": "f8dbfed8",
   "metadata": {},
   "outputs": [
    {
     "data": {
      "text/html": [
       "<div>\n",
       "<style scoped>\n",
       "    .dataframe tbody tr th:only-of-type {\n",
       "        vertical-align: middle;\n",
       "    }\n",
       "\n",
       "    .dataframe tbody tr th {\n",
       "        vertical-align: top;\n",
       "    }\n",
       "\n",
       "    .dataframe thead th {\n",
       "        text-align: right;\n",
       "    }\n",
       "</style>\n",
       "<table border=\"1\" class=\"dataframe\">\n",
       "  <thead>\n",
       "    <tr style=\"text-align: right;\">\n",
       "      <th></th>\n",
       "      <th>headlines</th>\n",
       "      <th>text</th>\n",
       "    </tr>\n",
       "  </thead>\n",
       "  <tbody>\n",
       "    <tr>\n",
       "      <th>23736</th>\n",
       "      <td>Fake apps of ICICI, HDFC, RBL leak credit card...</td>\n",
       "      <td>Fake apps impersonating banking apps of HDFC, ...</td>\n",
       "    </tr>\n",
       "    <tr>\n",
       "      <th>92672</th>\n",
       "      <td>Explain delay in action against Sena MP: Air I...</td>\n",
       "      <td>Air India has asked Delhi Police to explain th...</td>\n",
       "    </tr>\n",
       "    <tr>\n",
       "      <th>64071</th>\n",
       "      <td>Ten state-owned oil firms launch Ã¢ÂÂ¹320 cro...</td>\n",
       "      <td>Ten state-owned oil firms including Indian Oil...</td>\n",
       "    </tr>\n",
       "    <tr>\n",
       "      <th>31176</th>\n",
       "      <td>Petrol, diesel prices hiked after 19 days</td>\n",
       "      <td>After a 19-day hiatus, state-run oil marketing...</td>\n",
       "    </tr>\n",
       "    <tr>\n",
       "      <th>8415</th>\n",
       "      <td>Ginni's dad told me 'shut up' when I sent marr...</td>\n",
       "      <td>Comedian Kapil Sharma has revealed his girlfri...</td>\n",
       "    </tr>\n",
       "    <tr>\n",
       "      <th>40162</th>\n",
       "      <td>Snapchat partners with Gurugram firm for sales...</td>\n",
       "      <td>In its first attempt to draw revenues from ove...</td>\n",
       "    </tr>\n",
       "    <tr>\n",
       "      <th>46836</th>\n",
       "      <td>I'll be a star when people watch film because ...</td>\n",
       "      <td>Taapsee Pannu has said she'll believe she's a ...</td>\n",
       "    </tr>\n",
       "    <tr>\n",
       "      <th>61647</th>\n",
       "      <td>UNESCO appoints its second woman Director-General</td>\n",
       "      <td>UNESCO member states on Friday appointed forme...</td>\n",
       "    </tr>\n",
       "    <tr>\n",
       "      <th>55150</th>\n",
       "      <td>Jai Ram Thakur appointed as Himachal Pradesh C...</td>\n",
       "      <td>BJP's veteran leader and five-time MLA Jai Ram...</td>\n",
       "    </tr>\n",
       "    <tr>\n",
       "      <th>28912</th>\n",
       "      <td>Armed forces a rare breed of human beings: Pre...</td>\n",
       "      <td>President Ram Nath Kovind on Wednesday said, \"...</td>\n",
       "    </tr>\n",
       "  </tbody>\n",
       "</table>\n",
       "</div>"
      ],
      "text/plain": [
       "                                               headlines  \\\n",
       "23736  Fake apps of ICICI, HDFC, RBL leak credit card...   \n",
       "92672  Explain delay in action against Sena MP: Air I...   \n",
       "64071  Ten state-owned oil firms launch Ã¢ÂÂ¹320 cro...   \n",
       "31176          Petrol, diesel prices hiked after 19 days   \n",
       "8415   Ginni's dad told me 'shut up' when I sent marr...   \n",
       "40162  Snapchat partners with Gurugram firm for sales...   \n",
       "46836  I'll be a star when people watch film because ...   \n",
       "61647  UNESCO appoints its second woman Director-General   \n",
       "55150  Jai Ram Thakur appointed as Himachal Pradesh C...   \n",
       "28912  Armed forces a rare breed of human beings: Pre...   \n",
       "\n",
       "                                                    text  \n",
       "23736  Fake apps impersonating banking apps of HDFC, ...  \n",
       "92672  Air India has asked Delhi Police to explain th...  \n",
       "64071  Ten state-owned oil firms including Indian Oil...  \n",
       "31176  After a 19-day hiatus, state-run oil marketing...  \n",
       "8415   Comedian Kapil Sharma has revealed his girlfri...  \n",
       "40162  In its first attempt to draw revenues from ove...  \n",
       "46836  Taapsee Pannu has said she'll believe she's a ...  \n",
       "61647  UNESCO member states on Friday appointed forme...  \n",
       "55150  BJP's veteran leader and five-time MLA Jai Ram...  \n",
       "28912  President Ram Nath Kovind on Wednesday said, \"...  "
      ]
     },
     "execution_count": 3,
     "metadata": {},
     "output_type": "execute_result"
    }
   ],
   "source": [
    "data.sample(10)"
   ]
  },
  {
   "cell_type": "code",
   "execution_count": 4,
   "id": "ef17083f",
   "metadata": {},
   "outputs": [
    {
     "name": "stdout",
     "output_type": "stream",
     "text": [
      "text 열에서 중복을 배제한 유일한 샘플의 수 : 98360\n",
      "headlines 열에서 중복을 배제한 유일한 샘플의 수 : 98280\n"
     ]
    }
   ],
   "source": [
    "print('text 열에서 중복을 배제한 유일한 샘플의 수 :', data['text'].nunique())#샘플의 수가 차이난다. 이것은 비슷한 내용의 기사가 있어 똑같은 제목이 있거나\n",
    "print('headlines 열에서 중복을 배제한 유일한 샘플의 수 :', data['headlines'].nunique())#중복되는 기사가 존재할 2가지 가능성이 있다."
   ]
  },
  {
   "cell_type": "code",
   "execution_count": 5,
   "id": "becb9ff3",
   "metadata": {},
   "outputs": [
    {
     "name": "stdout",
     "output_type": "stream",
     "text": [
      "전체 샘플수 : 98360\n"
     ]
    }
   ],
   "source": [
    "# inplace=True 를 설정하면 DataFrame 타입 값을 return 하지 않고 data 내부를 직접적으로 바꿉니다\n",
    "data.drop_duplicates(subset = ['text'], inplace=True)#중복되는 뉴스가 있는지 확인\n",
    "print('전체 샘플수 :', (len(data)))#샘플의 수가 변하지 않은것을 보면 중복된 뉴스가 있는것이 아니라 헤드라인이 같은 뉴스가 존재한다는 것을 알 수 있다."
   ]
  },
  {
   "cell_type": "code",
   "execution_count": 6,
   "id": "79feaf7d",
   "metadata": {},
   "outputs": [
    {
     "name": "stdout",
     "output_type": "stream",
     "text": [
      "headlines    0\n",
      "text         0\n",
      "dtype: int64\n"
     ]
    }
   ],
   "source": [
    "print(data.isnull().sum())#비어 있는 수를 확은 해보았으나 0개임을 확인"
   ]
  },
  {
   "cell_type": "code",
   "execution_count": 7,
   "id": "d64c3ca2",
   "metadata": {},
   "outputs": [
    {
     "name": "stdout",
     "output_type": "stream",
     "text": [
      "정규화 사전의 수:  120\n"
     ]
    }
   ],
   "source": [
    "contractions = {\"ain't\": \"is not\", \"aren't\": \"are not\",\"can't\": \"cannot\", \"'cause\": \"because\", \"could've\": \"could have\", \"couldn't\": \"could not\",\n",
    "                           \"didn't\": \"did not\",  \"doesn't\": \"does not\", \"don't\": \"do not\", \"hadn't\": \"had not\", \"hasn't\": \"has not\", \"haven't\": \"have not\",\n",
    "                           \"he'd\": \"he would\",\"he'll\": \"he will\", \"he's\": \"he is\", \"how'd\": \"how did\", \"how'd'y\": \"how do you\", \"how'll\": \"how will\", \"how's\": \"how is\",\n",
    "                           \"I'd\": \"I would\", \"I'd've\": \"I would have\", \"I'll\": \"I will\", \"I'll've\": \"I will have\",\"I'm\": \"I am\", \"I've\": \"I have\", \"i'd\": \"i would\",\n",
    "                           \"i'd've\": \"i would have\", \"i'll\": \"i will\",  \"i'll've\": \"i will have\",\"i'm\": \"i am\", \"i've\": \"i have\", \"isn't\": \"is not\", \"it'd\": \"it would\",\n",
    "                           \"it'd've\": \"it would have\", \"it'll\": \"it will\", \"it'll've\": \"it will have\",\"it's\": \"it is\", \"let's\": \"let us\", \"ma'am\": \"madam\",\n",
    "                           \"mayn't\": \"may not\", \"might've\": \"might have\",\"mightn't\": \"might not\",\"mightn't've\": \"might not have\", \"must've\": \"must have\",\n",
    "                           \"mustn't\": \"must not\", \"mustn't've\": \"must not have\", \"needn't\": \"need not\", \"needn't've\": \"need not have\",\"o'clock\": \"of the clock\",\n",
    "                           \"oughtn't\": \"ought not\", \"oughtn't've\": \"ought not have\", \"shan't\": \"shall not\", \"sha'n't\": \"shall not\", \"shan't've\": \"shall not have\",\n",
    "                           \"she'd\": \"she would\", \"she'd've\": \"she would have\", \"she'll\": \"she will\", \"she'll've\": \"she will have\", \"she's\": \"she is\",\n",
    "                           \"should've\": \"should have\", \"shouldn't\": \"should not\", \"shouldn't've\": \"should not have\", \"so've\": \"so have\",\"so's\": \"so as\",\n",
    "                           \"this's\": \"this is\",\"that'd\": \"that would\", \"that'd've\": \"that would have\", \"that's\": \"that is\", \"there'd\": \"there would\",\n",
    "                           \"there'd've\": \"there would have\", \"there's\": \"there is\", \"here's\": \"here is\",\"they'd\": \"they would\", \"they'd've\": \"they would have\",\n",
    "                           \"they'll\": \"they will\", \"they'll've\": \"they will have\", \"they're\": \"they are\", \"they've\": \"they have\", \"to've\": \"to have\",\n",
    "                           \"wasn't\": \"was not\", \"we'd\": \"we would\", \"we'd've\": \"we would have\", \"we'll\": \"we will\", \"we'll've\": \"we will have\", \"we're\": \"we are\",\n",
    "                           \"we've\": \"we have\", \"weren't\": \"were not\", \"what'll\": \"what will\", \"what'll've\": \"what will have\", \"what're\": \"what are\",\n",
    "                           \"what's\": \"what is\", \"what've\": \"what have\", \"when's\": \"when is\", \"when've\": \"when have\", \"where'd\": \"where did\", \"where's\": \"where is\",\n",
    "                           \"where've\": \"where have\", \"who'll\": \"who will\", \"who'll've\": \"who will have\", \"who's\": \"who is\", \"who've\": \"who have\",\n",
    "                           \"why's\": \"why is\", \"why've\": \"why have\", \"will've\": \"will have\", \"won't\": \"will not\", \"won't've\": \"will not have\",\n",
    "                           \"would've\": \"would have\", \"wouldn't\": \"would not\", \"wouldn't've\": \"would not have\", \"y'all\": \"you all\",\n",
    "                           \"y'all'd\": \"you all would\",\"y'all'd've\": \"you all would have\",\"y'all're\": \"you all are\",\"y'all've\": \"you all have\",\n",
    "                           \"you'd\": \"you would\", \"you'd've\": \"you would have\", \"you'll\": \"you will\", \"you'll've\": \"you will have\",\n",
    "                           \"you're\": \"you are\", \"you've\": \"you have\"}\n",
    "\n",
    "print(\"정규화 사전의 수: \", len(contractions))#텍스트 정규화"
   ]
  },
  {
   "cell_type": "code",
   "execution_count": 8,
   "id": "403c7bf1",
   "metadata": {},
   "outputs": [
    {
     "name": "stdout",
     "output_type": "stream",
     "text": [
      "불용어 개수 : 179\n",
      "['i', 'me', 'my', 'myself', 'we', 'our', 'ours', 'ourselves', 'you', \"you're\", \"you've\", \"you'll\", \"you'd\", 'your', 'yours', 'yourself', 'yourselves', 'he', 'him', 'his', 'himself', 'she', \"she's\", 'her', 'hers', 'herself', 'it', \"it's\", 'its', 'itself', 'they', 'them', 'their', 'theirs', 'themselves', 'what', 'which', 'who', 'whom', 'this', 'that', \"that'll\", 'these', 'those', 'am', 'is', 'are', 'was', 'were', 'be', 'been', 'being', 'have', 'has', 'had', 'having', 'do', 'does', 'did', 'doing', 'a', 'an', 'the', 'and', 'but', 'if', 'or', 'because', 'as', 'until', 'while', 'of', 'at', 'by', 'for', 'with', 'about', 'against', 'between', 'into', 'through', 'during', 'before', 'after', 'above', 'below', 'to', 'from', 'up', 'down', 'in', 'out', 'on', 'off', 'over', 'under', 'again', 'further', 'then', 'once', 'here', 'there', 'when', 'where', 'why', 'how', 'all', 'any', 'both', 'each', 'few', 'more', 'most', 'other', 'some', 'such', 'no', 'nor', 'not', 'only', 'own', 'same', 'so', 'than', 'too', 'very', 's', 't', 'can', 'will', 'just', 'don', \"don't\", 'should', \"should've\", 'now', 'd', 'll', 'm', 'o', 're', 've', 'y', 'ain', 'aren', \"aren't\", 'couldn', \"couldn't\", 'didn', \"didn't\", 'doesn', \"doesn't\", 'hadn', \"hadn't\", 'hasn', \"hasn't\", 'haven', \"haven't\", 'isn', \"isn't\", 'ma', 'mightn', \"mightn't\", 'mustn', \"mustn't\", 'needn', \"needn't\", 'shan', \"shan't\", 'shouldn', \"shouldn't\", 'wasn', \"wasn't\", 'weren', \"weren't\", 'won', \"won't\", 'wouldn', \"wouldn't\"]\n"
     ]
    }
   ],
   "source": [
    "print('불용어 개수 :', len(stopwords.words('english') ))#영어의 불용어 체크\n",
    "print(stopwords.words('english'))"
   ]
  },
  {
   "cell_type": "code",
   "execution_count": 9,
   "id": "4a904504",
   "metadata": {},
   "outputs": [
    {
     "name": "stdout",
     "output_type": "stream",
     "text": [
      "=3\n"
     ]
    }
   ],
   "source": [
    "def preprocess_sentence(sentence, remove_stopwords=True):\n",
    "    sentence = sentence.lower() # 텍스트 소문자화\n",
    "    sentence = BeautifulSoup(sentence, \"lxml\").text # <br />, <a href = ...> 등의 html 태그 제거\n",
    "    sentence = re.sub(r'\\([^)]*\\)', '', sentence) # 괄호로 닫힌 문자열 (...) 제거 Ex) my husband (and myself!) for => my husband for\n",
    "    sentence = re.sub('\"','', sentence) # 쌍따옴표 \" 제거\n",
    "    sentence = ' '.join([contractions[t] if t in contractions else t for t in sentence.split(\" \")]) # 약어 정규화\n",
    "    sentence = re.sub(r\"'s\\b\",\"\", sentence) # 소유격 제거. Ex) roland's -> roland\n",
    "    sentence = re.sub(\"[^a-zA-Z]\", \" \", sentence) # 영어 외 문자(숫자, 특수문자 등) 공백으로 변환\n",
    "    sentence = re.sub('[m]{2,}', 'mm', sentence) # m이 3개 이상이면 2개로 변경. Ex) ummmmmmm yeah -> umm yeah\n",
    "    \n",
    "    # 불용어 제거 (Text)\n",
    "    if remove_stopwords:\n",
    "        tokens = ' '.join(word for word in sentence.split() if not word in stopwords.words('english') if len(word) > 1)\n",
    "    # 불용어 미제거 (Summary)\n",
    "    else:\n",
    "        tokens = ' '.join(word for word in sentence.split() if len(word) > 1)\n",
    "    return tokens\n",
    "print('=3')"
   ]
  },
  {
   "cell_type": "code",
   "execution_count": 10,
   "id": "99853efa",
   "metadata": {},
   "outputs": [
    {
     "name": "stdout",
     "output_type": "stream",
     "text": [
      "text 전처리 후 결과:  ['saurav kant alumnus upgrad iiit pg program machine learning artificial intelligence sr systems engineer infosys almost years work experience program upgrad degree career support helped transition data scientist tech mahindra salary hike upgrad online power learning powered lakh careers', 'kunal shah credit card bill payment platform cred gave users chance win free food swiggy one year pranav kaushik delhi techie bagged reward spending cred coins users get one cred coin per rupee bill paid used avail rewards brands like ixigo bookmyshow ubereats cult fit', 'new zealand defeated india wickets fourth odi hamilton thursday win first match five match odi series india lost international match rohit sharma captaincy consecutive victories dating back march match witnessed india getting seventh lowest total odi cricket history', 'aegon life iterm insurance plan customers enjoy tax benefits premiums paid save taxes plan provides life cover age years also customers options insure critical illnesses disability accidental death benefit rider life cover age years', 'speaking sexual harassment allegations rajkumar hirani sonam kapoor said known hirani many years true metoo movement get derailed metoo movement always believe woman case need reserve judgment added hirani accused assistant worked sanju']\n"
     ]
    }
   ],
   "source": [
    "clean_text = []\n",
    "# 전체 Text 데이터에 대한 전처리 : 10분 이상 시간이 걸릴 수 있습니다. \n",
    "for s in data['text']:\n",
    "    clean_text.append(preprocess_sentence(s))\n",
    "\n",
    "# 전처리 후 출력\n",
    "print(\"text 전처리 후 결과: \", clean_text[:5])"
   ]
  },
  {
   "cell_type": "code",
   "execution_count": 11,
   "id": "c5ecb20d",
   "metadata": {},
   "outputs": [
    {
     "name": "stdout",
     "output_type": "stream",
     "text": [
      "headlines 전처리 후 결과:  ['upgrad learner switches to career in ml al with salary hike', 'delhi techie wins free food from swiggy for one year on cred', 'new zealand end rohit sharma led india match winning streak', 'aegon life iterm insurance plan helps customers save tax', 'have known hirani for yrs what if metoo claims are not true sonam']\n"
     ]
    }
   ],
   "source": [
    "clean_headlines = []\n",
    "# 전체 headlines 데이터에 대한 전처리 : 5분 이상 시간이 걸릴 수 있습니다. \n",
    "for s in data['headlines']:\n",
    "    clean_headlines.append(preprocess_sentence(s, False))\n",
    "\n",
    "print(\"headlines 전처리 후 결과: \", clean_headlines[:5])"
   ]
  },
  {
   "cell_type": "code",
   "execution_count": 12,
   "id": "22bb505e",
   "metadata": {},
   "outputs": [
    {
     "name": "stdout",
     "output_type": "stream",
     "text": [
      "=3\n"
     ]
    }
   ],
   "source": [
    "data['text'] = clean_text\n",
    "data['headlines'] = clean_headlines\n",
    "\n",
    "# 빈 값을 Null 값으로 변환\n",
    "data.replace('', np.nan, inplace=True)\n",
    "print('=3')"
   ]
  },
  {
   "cell_type": "code",
   "execution_count": 13,
   "id": "4294132a",
   "metadata": {},
   "outputs": [
    {
     "data": {
      "text/plain": [
       "headlines    0\n",
       "text         0\n",
       "dtype: int64"
      ]
     },
     "execution_count": 13,
     "metadata": {},
     "output_type": "execute_result"
    }
   ],
   "source": [
    "data.isnull().sum()"
   ]
  },
  {
   "cell_type": "code",
   "execution_count": 14,
   "id": "79cbb9a4",
   "metadata": {},
   "outputs": [
    {
     "name": "stdout",
     "output_type": "stream",
     "text": [
      "전체 샘플수 : 98360\n"
     ]
    }
   ],
   "source": [
    "data.dropna(axis=0, inplace=True)\n",
    "print('전체 샘플수 :', (len(data)))"
   ]
  },
  {
   "cell_type": "code",
   "execution_count": 15,
   "id": "fff793d1",
   "metadata": {},
   "outputs": [
    {
     "name": "stdout",
     "output_type": "stream",
     "text": [
      "텍스트의 최소 길이 : 1\n",
      "텍스트의 최대 길이 : 60\n",
      "텍스트의 평균 길이 : 35.09968483123221\n",
      "제목의 최소 길이 : 1\n",
      "제목의 최대 길이 : 16\n",
      "제목의 평균 길이 : 9.299532330215534\n"
     ]
    },
    {
     "data": {
      "image/png": "[encoded data removed]",
      "text/plain": [
       "<Figure size 432x288 with 2 Axes>"
      ]
     },
     "metadata": {
      "needs_background": "light"
     },
     "output_type": "display_data"
    },
    {
     "data": {
      "image/png": "[encoded data removed]",
      "text/plain": [
       "<Figure size 432x288 with 1 Axes>"
      ]
     },
     "metadata": {
      "needs_background": "light"
     },
     "output_type": "display_data"
    },
    {
     "data": {
      "image/png": "[encoded data removed]",
      "text/plain": [
       "<Figure size 432x288 with 1 Axes>"
      ]
     },
     "metadata": {
      "needs_background": "light"
     },
     "output_type": "display_data"
    }
   ],
   "source": [
    "# 길이 분포 출력\n",
    "import matplotlib.pyplot as plt\n",
    "\n",
    "text_len = [len(s.split()) for s in data['text']]\n",
    "headlines_len = [len(s.split()) for s in data['headlines']]\n",
    "\n",
    "print('텍스트의 최소 길이 : {}'.format(np.min(text_len)))\n",
    "print('텍스트의 최대 길이 : {}'.format(np.max(text_len)))\n",
    "print('텍스트의 평균 길이 : {}'.format(np.mean(text_len)))\n",
    "print('제목의 최소 길이 : {}'.format(np.min(headlines_len)))\n",
    "print('제목의 최대 길이 : {}'.format(np.max(headlines_len)))\n",
    "print('제목의 평균 길이 : {}'.format(np.mean(headlines_len)))\n",
    "\n",
    "plt.subplot(1,2,1)\n",
    "plt.boxplot(text_len)\n",
    "plt.title('text')\n",
    "plt.subplot(1,2,2)\n",
    "plt.boxplot(headlines_len)\n",
    "plt.title('headlines')\n",
    "plt.tight_layout()\n",
    "plt.show()\n",
    "\n",
    "plt.title('text')\n",
    "plt.hist(text_len, bins = 40)\n",
    "plt.xlabel('length of samples')\n",
    "plt.ylabel('number of samples')\n",
    "plt.show()\n",
    "\n",
    "plt.title('headlines')\n",
    "plt.hist(headlines_len, bins = 40)\n",
    "plt.xlabel('length of samples')\n",
    "plt.ylabel('number of samples')\n",
    "plt.show() #뉴스의 최소 길이는 1 최대는 60 평균은 35 제목의 최소 길이는 1 최대는 16 평균은 9.3정도임을 알아냈다."
   ]
  },
  {
   "cell_type": "code",
   "execution_count": 16,
   "id": "4d28e961",
   "metadata": {},
   "outputs": [
    {
     "name": "stdout",
     "output_type": "stream",
     "text": [
      "=3\n"
     ]
    }
   ],
   "source": [
    "text_max_len = 40\n",
    "headlines_max_len = 12\n",
    "print('=3')"
   ]
  },
  {
   "cell_type": "code",
   "execution_count": 17,
   "id": "dd072dd5",
   "metadata": {},
   "outputs": [
    {
     "name": "stdout",
     "output_type": "stream",
     "text": [
      "=3\n"
     ]
    }
   ],
   "source": [
    "def below_threshold_len(max_len, nested_list):\n",
    "  cnt = 0\n",
    "  for s in nested_list:\n",
    "    if(len(s.split()) <= max_len):\n",
    "        cnt = cnt + 1\n",
    "  print('전체 샘플 중 길이가%s 이하인 샘플의 비율: %s'%(max_len, (cnt / len(nested_list))))\n",
    "print('=3')"
   ]
  },
  {
   "cell_type": "code",
   "execution_count": 18,
   "id": "0e9a0cfc",
   "metadata": {},
   "outputs": [
    {
     "name": "stdout",
     "output_type": "stream",
     "text": [
      "전체 샘플 중 길이가40 이하인 샘플의 비율: 0.9238714924766165\n",
      "전체 샘플 중 길이가12 이하인 샘플의 비율: 0.9880337535583571\n"
     ]
    }
   ],
   "source": [
    "below_threshold_len(text_max_len, data['text'])\n",
    "below_threshold_len(headlines_max_len,  data['headlines'])"
   ]
  },
  {
   "cell_type": "code",
   "execution_count": 19,
   "id": "fbf2d9b0",
   "metadata": {},
   "outputs": [
    {
     "name": "stdout",
     "output_type": "stream",
     "text": [
      "전체 샘플수 : 89775\n"
     ]
    }
   ],
   "source": [
    "data = data[data['text'].apply(lambda x: len(x.split()) <= text_max_len)]\n",
    "data = data[data['headlines'].apply(lambda x: len(x.split()) <= headlines_max_len)]\n",
    "print('전체 샘플수 :', (len(data)))"
   ]
  },
  {
   "cell_type": "code",
   "execution_count": 20,
   "id": "b5805587",
   "metadata": {},
   "outputs": [
    {
     "data": {
      "text/html": [
       "<div>\n",
       "<style scoped>\n",
       "    .dataframe tbody tr th:only-of-type {\n",
       "        vertical-align: middle;\n",
       "    }\n",
       "\n",
       "    .dataframe tbody tr th {\n",
       "        vertical-align: top;\n",
       "    }\n",
       "\n",
       "    .dataframe thead th {\n",
       "        text-align: right;\n",
       "    }\n",
       "</style>\n",
       "<table border=\"1\" class=\"dataframe\">\n",
       "  <thead>\n",
       "    <tr style=\"text-align: right;\">\n",
       "      <th></th>\n",
       "      <th>headlines</th>\n",
       "      <th>text</th>\n",
       "      <th>decoder_input</th>\n",
       "      <th>decoder_target</th>\n",
       "    </tr>\n",
       "  </thead>\n",
       "  <tbody>\n",
       "    <tr>\n",
       "      <th>0</th>\n",
       "      <td>upgrad learner switches to career in ml al wit...</td>\n",
       "      <td>saurav kant alumnus upgrad iiit pg program mac...</td>\n",
       "      <td>sostoken upgrad learner switches to career in ...</td>\n",
       "      <td>upgrad learner switches to career in ml al wit...</td>\n",
       "    </tr>\n",
       "    <tr>\n",
       "      <th>2</th>\n",
       "      <td>new zealand end rohit sharma led india match w...</td>\n",
       "      <td>new zealand defeated india wickets fourth odi ...</td>\n",
       "      <td>sostoken new zealand end rohit sharma led indi...</td>\n",
       "      <td>new zealand end rohit sharma led india match w...</td>\n",
       "    </tr>\n",
       "    <tr>\n",
       "      <th>3</th>\n",
       "      <td>aegon life iterm insurance plan helps customer...</td>\n",
       "      <td>aegon life iterm insurance plan customers enjo...</td>\n",
       "      <td>sostoken aegon life iterm insurance plan helps...</td>\n",
       "      <td>aegon life iterm insurance plan helps customer...</td>\n",
       "    </tr>\n",
       "    <tr>\n",
       "      <th>5</th>\n",
       "      <td>rahat fateh ali khan denies getting notice for...</td>\n",
       "      <td>pakistani singer rahat fateh ali khan denied r...</td>\n",
       "      <td>sostoken rahat fateh ali khan denies getting n...</td>\n",
       "      <td>rahat fateh ali khan denies getting notice for...</td>\n",
       "    </tr>\n",
       "    <tr>\n",
       "      <th>6</th>\n",
       "      <td>india get all out for their lowest odi total i...</td>\n",
       "      <td>india recorded lowest odi total new zealand ge...</td>\n",
       "      <td>sostoken india get all out for their lowest od...</td>\n",
       "      <td>india get all out for their lowest odi total i...</td>\n",
       "    </tr>\n",
       "  </tbody>\n",
       "</table>\n",
       "</div>"
      ],
      "text/plain": [
       "                                           headlines  \\\n",
       "0  upgrad learner switches to career in ml al wit...   \n",
       "2  new zealand end rohit sharma led india match w...   \n",
       "3  aegon life iterm insurance plan helps customer...   \n",
       "5  rahat fateh ali khan denies getting notice for...   \n",
       "6  india get all out for their lowest odi total i...   \n",
       "\n",
       "                                                text  \\\n",
       "0  saurav kant alumnus upgrad iiit pg program mac...   \n",
       "2  new zealand defeated india wickets fourth odi ...   \n",
       "3  aegon life iterm insurance plan customers enjo...   \n",
       "5  pakistani singer rahat fateh ali khan denied r...   \n",
       "6  india recorded lowest odi total new zealand ge...   \n",
       "\n",
       "                                       decoder_input  \\\n",
       "0  sostoken upgrad learner switches to career in ...   \n",
       "2  sostoken new zealand end rohit sharma led indi...   \n",
       "3  sostoken aegon life iterm insurance plan helps...   \n",
       "5  sostoken rahat fateh ali khan denies getting n...   \n",
       "6  sostoken india get all out for their lowest od...   \n",
       "\n",
       "                                      decoder_target  \n",
       "0  upgrad learner switches to career in ml al wit...  \n",
       "2  new zealand end rohit sharma led india match w...  \n",
       "3  aegon life iterm insurance plan helps customer...  \n",
       "5  rahat fateh ali khan denies getting notice for...  \n",
       "6  india get all out for their lowest odi total i...  "
      ]
     },
     "execution_count": 20,
     "metadata": {},
     "output_type": "execute_result"
    }
   ],
   "source": [
    "# 요약 데이터에는 시작 토큰과 종료 토큰을 추가한다.\n",
    "data['decoder_input'] = data['headlines'].apply(lambda x : 'sostoken '+ x)\n",
    "data['decoder_target'] = data['headlines'].apply(lambda x : x + ' eostoken')\n",
    "data.head()"
   ]
  },
  {
   "cell_type": "code",
   "execution_count": 21,
   "id": "3020320e",
   "metadata": {},
   "outputs": [
    {
     "name": "stdout",
     "output_type": "stream",
     "text": [
      "=3\n"
     ]
    }
   ],
   "source": [
    "encoder_input = np.array(data['text']) # 인코더의 입력\n",
    "decoder_input = np.array(data['decoder_input']) # 디코더의 입력\n",
    "decoder_target = np.array(data['decoder_target']) # 디코더의 레이블\n",
    "print('=3')"
   ]
  },
  {
   "cell_type": "code",
   "execution_count": 22,
   "id": "1e9a9796",
   "metadata": {},
   "outputs": [
    {
     "name": "stdout",
     "output_type": "stream",
     "text": [
      "[45398 65355 19580 ... 18036 30118 73062]\n"
     ]
    }
   ],
   "source": [
    "indices = np.arange(encoder_input.shape[0])\n",
    "np.random.shuffle(indices)\n",
    "print(indices)"
   ]
  },
  {
   "cell_type": "code",
   "execution_count": 23,
   "id": "1275475d",
   "metadata": {},
   "outputs": [
    {
     "name": "stdout",
     "output_type": "stream",
     "text": [
      "=3\n"
     ]
    }
   ],
   "source": [
    "encoder_input = encoder_input[indices]\n",
    "decoder_input = decoder_input[indices]\n",
    "decoder_target = decoder_target[indices]\n",
    "print('=3')"
   ]
  },
  {
   "cell_type": "code",
   "execution_count": 24,
   "id": "565f0fc4",
   "metadata": {},
   "outputs": [
    {
     "name": "stdout",
     "output_type": "stream",
     "text": [
      "테스트 데이터의 수 : 17955\n"
     ]
    }
   ],
   "source": [
    "n_of_val = int(len(encoder_input)*0.2)\n",
    "print('테스트 데이터의 수 :', n_of_val)"
   ]
  },
  {
   "cell_type": "code",
   "execution_count": 25,
   "id": "e85b5ee9",
   "metadata": {},
   "outputs": [
    {
     "name": "stdout",
     "output_type": "stream",
     "text": [
      "훈련 데이터의 개수 : 71820\n",
      "훈련 레이블의 개수 : 71820\n",
      "테스트 데이터의 개수 : 17955\n",
      "테스트 레이블의 개수 : 17955\n"
     ]
    }
   ],
   "source": [
    "encoder_input_train = encoder_input[:-n_of_val]\n",
    "decoder_input_train = decoder_input[:-n_of_val]\n",
    "decoder_target_train = decoder_target[:-n_of_val]\n",
    "\n",
    "encoder_input_test = encoder_input[-n_of_val:]\n",
    "decoder_input_test = decoder_input[-n_of_val:]\n",
    "decoder_target_test = decoder_target[-n_of_val:]\n",
    "\n",
    "print('훈련 데이터의 개수 :', len(encoder_input_train))\n",
    "print('훈련 레이블의 개수 :', len(decoder_input_train))\n",
    "print('테스트 데이터의 개수 :', len(encoder_input_test))\n",
    "print('테스트 레이블의 개수 :', len(decoder_input_test))"
   ]
  },
  {
   "cell_type": "code",
   "execution_count": 26,
   "id": "a94ae9cb",
   "metadata": {},
   "outputs": [
    {
     "name": "stdout",
     "output_type": "stream",
     "text": [
      "=3\n"
     ]
    }
   ],
   "source": [
    "src_tokenizer = Tokenizer() # 토크나이저 정의\n",
    "src_tokenizer.fit_on_texts(encoder_input_train) # 입력된 데이터로부터 단어 집합 생성\n",
    "print('=3')"
   ]
  },
  {
   "cell_type": "code",
   "execution_count": 27,
   "id": "24472c17",
   "metadata": {},
   "outputs": [
    {
     "name": "stdout",
     "output_type": "stream",
     "text": [
      "단어 집합(vocabulary)의 크기 : 65477\n",
      "등장 빈도가 6번 이하인 희귀 단어의 수: 44560\n",
      "단어 집합에서 희귀 단어를 제외시킬 경우의 단어 집합의 크기 20917\n",
      "단어 집합에서 희귀 단어의 비율: 68.05443132703087\n",
      "전체 등장 빈도에서 희귀 단어 등장 빈도 비율: 3.662618561683543\n"
     ]
    }
   ],
   "source": [
    "threshold = 7\n",
    "total_cnt = len(src_tokenizer.word_index) # 단어의 수\n",
    "rare_cnt = 0 # 등장 빈도수가 threshold보다 작은 단어의 개수를 카운트\n",
    "total_freq = 0 # 훈련 데이터의 전체 단어 빈도수 총 합\n",
    "rare_freq = 0 # 등장 빈도수가 threshold보다 작은 단어의 등장 빈도수의 총 합\n",
    "\n",
    "# 단어와 빈도수의 쌍(pair)을 key와 value로 받는다.\n",
    "for key, value in src_tokenizer.word_counts.items():\n",
    "    total_freq = total_freq + value\n",
    "\n",
    "    # 단어의 등장 빈도수가 threshold보다 작으면\n",
    "    if(value < threshold):\n",
    "        rare_cnt = rare_cnt + 1\n",
    "        rare_freq = rare_freq + value\n",
    "\n",
    "print('단어 집합(vocabulary)의 크기 :', total_cnt)\n",
    "print('등장 빈도가 %s번 이하인 희귀 단어의 수: %s'%(threshold - 1, rare_cnt))\n",
    "print('단어 집합에서 희귀 단어를 제외시킬 경우의 단어 집합의 크기 %s'%(total_cnt - rare_cnt))\n",
    "print(\"단어 집합에서 희귀 단어의 비율:\", (rare_cnt / total_cnt)*100)\n",
    "print(\"전체 등장 빈도에서 희귀 단어 등장 빈도 비율:\", (rare_freq / total_freq)*100)"
   ]
  },
  {
   "cell_type": "code",
   "execution_count": 28,
   "id": "2b83c509",
   "metadata": {},
   "outputs": [
    {
     "name": "stdout",
     "output_type": "stream",
     "text": [
      "=3\n"
     ]
    }
   ],
   "source": [
    "src_vocab = 16000\n",
    "src_tokenizer = Tokenizer(num_words=src_vocab) # 단어 집합의 크기를 16,000으로 제한\n",
    "src_tokenizer.fit_on_texts(encoder_input_train) # 단어 집합 재생성\n",
    "print('=3')"
   ]
  },
  {
   "cell_type": "code",
   "execution_count": 29,
   "id": "129769c3",
   "metadata": {},
   "outputs": [
    {
     "name": "stdout",
     "output_type": "stream",
     "text": [
      "[[3, 11, 5, 141, 3161, 10563, 6004, 728, 96, 10563, 284, 12, 227, 2294, 1066, 622, 46, 7478, 8861, 457, 526, 2400, 457, 290, 5134, 148, 168, 145], [1315, 1225, 2701, 1219, 2149, 751, 8862, 1219, 4006, 590, 372, 347, 10564, 461, 66, 27, 347, 8554, 1315, 11782, 8261, 347, 696, 8862, 899, 1344, 485, 775, 459, 1282, 4827, 347, 2016, 891, 1315, 1], [3788, 112, 59, 1, 962, 1903, 201, 6308, 1124, 7241, 179, 118, 3788, 112, 98, 8262, 2577, 626, 1702, 6218, 650, 377, 378, 1271, 3788, 101, 342, 4419, 6842, 1]]\n"
     ]
    }
   ],
   "source": [
    "# 텍스트 시퀀스를 정수 시퀀스로 변환\n",
    "encoder_input_train = src_tokenizer.texts_to_sequences(encoder_input_train) \n",
    "encoder_input_test = src_tokenizer.texts_to_sequences(encoder_input_test)\n",
    "\n",
    "# 잘 진행되었는지 샘플 출력\n",
    "print(encoder_input_train[:3])"
   ]
  },
  {
   "cell_type": "code",
   "execution_count": 30,
   "id": "9d4f06e3",
   "metadata": {},
   "outputs": [
    {
     "name": "stdout",
     "output_type": "stream",
     "text": [
      "=3\n"
     ]
    }
   ],
   "source": [
    "tar_tokenizer = Tokenizer()\n",
    "tar_tokenizer.fit_on_texts(decoder_input_train)\n",
    "print('=3')"
   ]
  },
  {
   "cell_type": "code",
   "execution_count": 31,
   "id": "153a33f3",
   "metadata": {},
   "outputs": [
    {
     "name": "stdout",
     "output_type": "stream",
     "text": [
      "단어 집합(vocabulary)의 크기 : 28865\n",
      "등장 빈도가 4번 이하인 희귀 단어의 수: 17880\n",
      "단어 집합에서 희귀 단어를 제외시킬 경우의 단어 집합의 크기 10985\n",
      "단어 집합에서 희귀 단어의 비율: 61.94353022691841\n",
      "전체 등장 빈도에서 희귀 단어 등장 빈도 비율: 4.191498866850523\n"
     ]
    }
   ],
   "source": [
    "threshold = 5\n",
    "total_cnt = len(tar_tokenizer.word_index) # 단어의 수\n",
    "rare_cnt = 0 # 등장 빈도수가 threshold보다 작은 단어의 개수를 카운트\n",
    "total_freq = 0 # 훈련 데이터의 전체 단어 빈도수 총 합\n",
    "rare_freq = 0 # 등장 빈도수가 threshold보다 작은 단어의 등장 빈도수의 총 합\n",
    "\n",
    "# 단어와 빈도수의 쌍(pair)을 key와 value로 받는다.\n",
    "for key, value in tar_tokenizer.word_counts.items():\n",
    "    total_freq = total_freq + value\n",
    "\n",
    "    # 단어의 등장 빈도수가 threshold보다 작으면\n",
    "    if(value < threshold):\n",
    "        rare_cnt = rare_cnt + 1\n",
    "        rare_freq = rare_freq + value\n",
    "\n",
    "print('단어 집합(vocabulary)의 크기 :', total_cnt)\n",
    "print('등장 빈도가 %s번 이하인 희귀 단어의 수: %s'%(threshold - 1, rare_cnt))\n",
    "print('단어 집합에서 희귀 단어를 제외시킬 경우의 단어 집합의 크기 %s'%(total_cnt - rare_cnt))\n",
    "print(\"단어 집합에서 희귀 단어의 비율:\", (rare_cnt / total_cnt)*100)\n",
    "print(\"전체 등장 빈도에서 희귀 단어 등장 빈도 비율:\", (rare_freq / total_freq)*100)"
   ]
  },
  {
   "cell_type": "code",
   "execution_count": 32,
   "id": "a127ed4b",
   "metadata": {},
   "outputs": [
    {
     "name": "stdout",
     "output_type": "stream",
     "text": [
      "input\n",
      "input  [[1, 3875, 1257, 5, 6076, 3], [1, 612, 2954, 4716, 2570, 4264, 3, 4717, 18, 1067], [1, 2209, 129, 1685, 1233, 4008, 760, 11, 57], [1, 31, 1304, 330, 3, 354, 1105, 230, 2887, 4, 15, 600], [1, 3256, 10, 4, 424, 58]]\n",
      "target\n",
      "decoder  [[3875, 1257, 5, 6076, 3, 2], [612, 2954, 4716, 2570, 4264, 3, 4717, 18, 1067, 2], [2209, 129, 1685, 1233, 4008, 760, 11, 57, 2], [31, 1304, 330, 3, 354, 1105, 230, 2887, 4, 15, 600, 2], [3256, 10, 4, 424, 58, 2]]\n"
     ]
    }
   ],
   "source": [
    "tar_vocab = 7000\n",
    "tar_tokenizer = Tokenizer(num_words=tar_vocab) \n",
    "tar_tokenizer.fit_on_texts(decoder_input_train)\n",
    "tar_tokenizer.fit_on_texts(decoder_target_train)\n",
    "\n",
    "# 텍스트 시퀀스를 정수 시퀀스로 변환\n",
    "decoder_input_train = tar_tokenizer.texts_to_sequences(decoder_input_train) \n",
    "decoder_target_train = tar_tokenizer.texts_to_sequences(decoder_target_train)\n",
    "decoder_input_test = tar_tokenizer.texts_to_sequences(decoder_input_test)\n",
    "decoder_target_test = tar_tokenizer.texts_to_sequences(decoder_target_test)\n",
    "\n",
    "# 잘 변환되었는지 확인\n",
    "print('input')\n",
    "print('input ',decoder_input_train[:5])\n",
    "print('target')\n",
    "print('decoder ',decoder_target_train[:5])"
   ]
  },
  {
   "cell_type": "code",
   "execution_count": 33,
   "id": "fd12f477",
   "metadata": {},
   "outputs": [
    {
     "name": "stdout",
     "output_type": "stream",
     "text": [
      "삭제할 훈련 데이터의 개수 : 0\n",
      "삭제할 테스트 데이터의 개수 : 1\n",
      "훈련 데이터의 개수 : 71820\n",
      "훈련 레이블의 개수 : 71820\n",
      "테스트 데이터의 개수 : 17954\n",
      "테스트 레이블의 개수 : 17954\n"
     ]
    }
   ],
   "source": [
    "drop_train = [index for index, sentence in enumerate(decoder_input_train) if len(sentence) == 1]\n",
    "drop_test = [index for index, sentence in enumerate(decoder_input_test) if len(sentence) == 1]\n",
    "\n",
    "print('삭제할 훈련 데이터의 개수 :', len(drop_train))\n",
    "print('삭제할 테스트 데이터의 개수 :', len(drop_test))\n",
    "\n",
    "encoder_input_train = [sentence for index, sentence in enumerate(encoder_input_train) if index not in drop_train]\n",
    "decoder_input_train = [sentence for index, sentence in enumerate(decoder_input_train) if index not in drop_train]\n",
    "decoder_target_train = [sentence for index, sentence in enumerate(decoder_target_train) if index not in drop_train]\n",
    "\n",
    "encoder_input_test = [sentence for index, sentence in enumerate(encoder_input_test) if index not in drop_test]\n",
    "decoder_input_test = [sentence for index, sentence in enumerate(decoder_input_test) if index not in drop_test]\n",
    "decoder_target_test = [sentence for index, sentence in enumerate(decoder_target_test) if index not in drop_test]\n",
    "\n",
    "print('훈련 데이터의 개수 :', len(encoder_input_train))\n",
    "print('훈련 레이블의 개수 :', len(decoder_input_train))\n",
    "print('테스트 데이터의 개수 :', len(encoder_input_test))\n",
    "print('테스트 레이블의 개수 :', len(decoder_input_test))"
   ]
  },
  {
   "cell_type": "code",
   "execution_count": 34,
   "id": "5a26e4be",
   "metadata": {},
   "outputs": [
    {
     "name": "stdout",
     "output_type": "stream",
     "text": [
      "=3\n"
     ]
    }
   ],
   "source": [
    "encoder_input_train = pad_sequences(encoder_input_train, maxlen=text_max_len, padding='post')\n",
    "encoder_input_test = pad_sequences(encoder_input_test, maxlen=text_max_len, padding='post')\n",
    "decoder_input_train = pad_sequences(decoder_input_train, maxlen=headlines_max_len, padding='post')\n",
    "decoder_target_train = pad_sequences(decoder_target_train, maxlen=headlines_max_len, padding='post')\n",
    "decoder_input_test = pad_sequences(decoder_input_test, maxlen=headlines_max_len, padding='post')\n",
    "decoder_target_test = pad_sequences(decoder_target_test, maxlen=headlines_max_len, padding='post')\n",
    "print('=3')"
   ]
  },
  {
   "cell_type": "code",
   "execution_count": 35,
   "id": "48170449",
   "metadata": {},
   "outputs": [
    {
     "name": "stdout",
     "output_type": "stream",
     "text": [
      "WARNING:tensorflow:Layer lstm will not use cuDNN kernels since it doesn't meet the criteria. It will use a generic GPU kernel as fallback when running on GPU.\n",
      "WARNING:tensorflow:Layer lstm_1 will not use cuDNN kernels since it doesn't meet the criteria. It will use a generic GPU kernel as fallback when running on GPU.\n",
      "WARNING:tensorflow:Layer lstm_2 will not use cuDNN kernels since it doesn't meet the criteria. It will use a generic GPU kernel as fallback when running on GPU.\n"
     ]
    }
   ],
   "source": [
    "from tensorflow.keras.layers import Input, LSTM, Embedding, Dense, Concatenate, TimeDistributed\n",
    "from tensorflow.keras.models import Model\n",
    "from tensorflow.keras.callbacks import EarlyStopping, ModelCheckpoint\n",
    "\n",
    "\n",
    "# 인코더 설계 시작\n",
    "embedding_dim = 128\n",
    "hidden_size = 256\n",
    "\n",
    "# 인코더\n",
    "encoder_inputs = Input(shape=(text_max_len,))\n",
    "\n",
    "# 인코더의 임베딩 층\n",
    "enc_emb = Embedding(src_vocab, embedding_dim)(encoder_inputs)\n",
    "\n",
    "# 인코더의 LSTM 1\n",
    "encoder_lstm1 = LSTM(hidden_size, return_sequences=True, return_state=True ,dropout = 0.4, recurrent_dropout = 0.4)\n",
    "encoder_output1, state_h1, state_c1 = encoder_lstm1(enc_emb)\n",
    "\n",
    "# 인코더의 LSTM 2\n",
    "encoder_lstm2 = LSTM(hidden_size, return_sequences=True, return_state=True, dropout=0.4, recurrent_dropout=0.4)\n",
    "encoder_output2, state_h2, state_c2 = encoder_lstm2(encoder_output1)\n",
    "\n",
    "# 인코더의 LSTM 3\n",
    "encoder_lstm3 = LSTM(hidden_size, return_state=True, return_sequences=True, dropout=0.4, recurrent_dropout=0.4)\n",
    "encoder_outputs, state_h, state_c= encoder_lstm3(encoder_output2)#오류가 나는것을 고쳐보려고 했으나 구글링에서 나오지 않았고 하나 나왔는데 이벙 경우와는 거리가 있어\n",
    "#그대로 두었다. 결과적으로 학습 자체가 안되는것은 아니라 그냥 오류를 두고 모델을 만들었다."
   ]
  },
  {
   "cell_type": "code",
   "execution_count": 36,
   "id": "c09701a4",
   "metadata": {},
   "outputs": [
    {
     "name": "stdout",
     "output_type": "stream",
     "text": [
      "WARNING:tensorflow:Layer lstm_3 will not use cuDNN kernels since it doesn't meet the criteria. It will use a generic GPU kernel as fallback when running on GPU.\n"
     ]
    }
   ],
   "source": [
    "# 디코더 설계\n",
    "decoder_inputs = Input(shape=(None,))\n",
    "\n",
    "# 디코더의 임베딩 층\n",
    "dec_emb_layer = Embedding(tar_vocab, embedding_dim)\n",
    "dec_emb = dec_emb_layer(decoder_inputs)\n",
    "\n",
    "# 디코더의 LSTM\n",
    "decoder_lstm = LSTM(hidden_size, return_sequences=True, return_state=True, dropout=0.4, recurrent_dropout=0.2)\n",
    "decoder_outputs, _, _ = decoder_lstm(dec_emb, initial_state=[state_h, state_c])"
   ]
  },
  {
   "cell_type": "code",
   "execution_count": 37,
   "id": "7b3dd14b",
   "metadata": {},
   "outputs": [
    {
     "name": "stdout",
     "output_type": "stream",
     "text": [
      "Model: \"model\"\n",
      "__________________________________________________________________________________________________\n",
      "Layer (type)                    Output Shape         Param #     Connected to                     \n",
      "==================================================================================================\n",
      "input_1 (InputLayer)            [(None, 40)]         0                                            \n",
      "__________________________________________________________________________________________________\n",
      "embedding (Embedding)           (None, 40, 128)      2048000     input_1[0][0]                    \n",
      "__________________________________________________________________________________________________\n",
      "lstm (LSTM)                     [(None, 40, 256), (N 394240      embedding[0][0]                  \n",
      "__________________________________________________________________________________________________\n",
      "input_2 (InputLayer)            [(None, None)]       0                                            \n",
      "__________________________________________________________________________________________________\n",
      "lstm_1 (LSTM)                   [(None, 40, 256), (N 525312      lstm[0][0]                       \n",
      "__________________________________________________________________________________________________\n",
      "embedding_1 (Embedding)         (None, None, 128)    896000      input_2[0][0]                    \n",
      "__________________________________________________________________________________________________\n",
      "lstm_2 (LSTM)                   [(None, 40, 256), (N 525312      lstm_1[0][0]                     \n",
      "__________________________________________________________________________________________________\n",
      "lstm_3 (LSTM)                   [(None, None, 256),  394240      embedding_1[0][0]                \n",
      "                                                                 lstm_2[0][1]                     \n",
      "                                                                 lstm_2[0][2]                     \n",
      "__________________________________________________________________________________________________\n",
      "dense (Dense)                   (None, None, 7000)   1799000     lstm_3[0][0]                     \n",
      "==================================================================================================\n",
      "Total params: 6,582,104\n",
      "Trainable params: 6,582,104\n",
      "Non-trainable params: 0\n",
      "__________________________________________________________________________________________________\n"
     ]
    }
   ],
   "source": [
    "# 디코더의 출력층\n",
    "decoder_softmax_layer = Dense(tar_vocab, activation='softmax')\n",
    "decoder_softmax_outputs = decoder_softmax_layer(decoder_outputs) \n",
    "\n",
    "# 모델 정의\n",
    "model = Model([encoder_inputs, decoder_inputs], decoder_softmax_outputs)\n",
    "model.summary()"
   ]
  },
  {
   "cell_type": "code",
   "execution_count": 38,
   "id": "4f5f845a",
   "metadata": {},
   "outputs": [
    {
     "name": "stdout",
     "output_type": "stream",
     "text": [
      "Model: \"model_1\"\n",
      "__________________________________________________________________________________________________\n",
      "Layer (type)                    Output Shape         Param #     Connected to                     \n",
      "==================================================================================================\n",
      "input_1 (InputLayer)            [(None, 40)]         0                                            \n",
      "__________________________________________________________________________________________________\n",
      "embedding (Embedding)           (None, 40, 128)      2048000     input_1[0][0]                    \n",
      "__________________________________________________________________________________________________\n",
      "lstm (LSTM)                     [(None, 40, 256), (N 394240      embedding[0][0]                  \n",
      "__________________________________________________________________________________________________\n",
      "input_2 (InputLayer)            [(None, None)]       0                                            \n",
      "__________________________________________________________________________________________________\n",
      "lstm_1 (LSTM)                   [(None, 40, 256), (N 525312      lstm[0][0]                       \n",
      "__________________________________________________________________________________________________\n",
      "embedding_1 (Embedding)         (None, None, 128)    896000      input_2[0][0]                    \n",
      "__________________________________________________________________________________________________\n",
      "lstm_2 (LSTM)                   [(None, 40, 256), (N 525312      lstm_1[0][0]                     \n",
      "__________________________________________________________________________________________________\n",
      "lstm_3 (LSTM)                   [(None, None, 256),  394240      embedding_1[0][0]                \n",
      "                                                                 lstm_2[0][1]                     \n",
      "                                                                 lstm_2[0][2]                     \n",
      "__________________________________________________________________________________________________\n",
      "attention_layer (AdditiveAttent (None, None, 256)    256         lstm_3[0][0]                     \n",
      "                                                                 lstm_2[0][0]                     \n",
      "__________________________________________________________________________________________________\n",
      "concat_layer (Concatenate)      (None, None, 512)    0           lstm_3[0][0]                     \n",
      "                                                                 attention_layer[0][0]            \n",
      "__________________________________________________________________________________________________\n",
      "dense_1 (Dense)                 (None, None, 7000)   3591000     concat_layer[0][0]               \n",
      "==================================================================================================\n",
      "Total params: 8,374,360\n",
      "Trainable params: 8,374,360\n",
      "Non-trainable params: 0\n",
      "__________________________________________________________________________________________________\n"
     ]
    }
   ],
   "source": [
    "from tensorflow.keras.layers import AdditiveAttention\n",
    "\n",
    "# 어텐션 층(어텐션 함수)\n",
    "attn_layer = AdditiveAttention(name='attention_layer')\n",
    "\n",
    "# 인코더와 디코더의 모든 time step의 hidden state를 어텐션 층에 전달하고 결과를 리턴\n",
    "attn_out = attn_layer([decoder_outputs, encoder_outputs])\n",
    "\n",
    "\n",
    "# 어텐션의 결과와 디코더의 hidden state들을 연결\n",
    "decoder_concat_input = Concatenate(axis=-1, name='concat_layer')([decoder_outputs, attn_out])\n",
    "\n",
    "# 디코더의 출력층\n",
    "decoder_softmax_layer = Dense(tar_vocab, activation='softmax')\n",
    "decoder_softmax_outputs = decoder_softmax_layer(decoder_concat_input)\n",
    "\n",
    "# 모델 정의\n",
    "model = Model([encoder_inputs, decoder_inputs], decoder_softmax_outputs)\n",
    "model.summary()"
   ]
  },
  {
   "cell_type": "code",
   "execution_count": 39,
   "id": "dea786ba",
   "metadata": {},
   "outputs": [
    {
     "name": "stdout",
     "output_type": "stream",
     "text": [
      "Epoch 1/50\n",
      "281/281 [==============================] - 171s 577ms/step - loss: 5.3345 - val_loss: 4.9242\n",
      "Epoch 2/50\n",
      "281/281 [==============================] - 164s 584ms/step - loss: 4.7813 - val_loss: 4.5538\n",
      "Epoch 3/50\n",
      "281/281 [==============================] - 164s 584ms/step - loss: 4.4513 - val_loss: 4.3187\n",
      "Epoch 4/50\n",
      "281/281 [==============================] - 164s 584ms/step - loss: 4.2055 - val_loss: 4.1411\n",
      "Epoch 5/50\n",
      "281/281 [==============================] - 164s 584ms/step - loss: 4.0106 - val_loss: 3.9985\n",
      "Epoch 6/50\n",
      "281/281 [==============================] - 164s 582ms/step - loss: 3.8456 - val_loss: 3.8876\n",
      "Epoch 7/50\n",
      "281/281 [==============================] - 160s 570ms/step - loss: 3.7060 - val_loss: 3.7942\n",
      "Epoch 8/50\n",
      "281/281 [==============================] - 164s 583ms/step - loss: 3.5841 - val_loss: 3.7293\n",
      "Epoch 9/50\n",
      "281/281 [==============================] - 164s 584ms/step - loss: 3.4790 - val_loss: 3.6733\n",
      "Epoch 10/50\n",
      "281/281 [==============================] - 163s 581ms/step - loss: 3.3853 - val_loss: 3.6223\n",
      "Epoch 11/50\n",
      "281/281 [==============================] - 165s 586ms/step - loss: 3.3024 - val_loss: 3.5935\n",
      "Epoch 12/50\n",
      "281/281 [==============================] - 165s 587ms/step - loss: 3.2252 - val_loss: 3.5527\n",
      "Epoch 13/50\n",
      "281/281 [==============================] - 166s 591ms/step - loss: 3.1569 - val_loss: 3.5332\n",
      "Epoch 14/50\n",
      "281/281 [==============================] - 166s 592ms/step - loss: 3.0951 - val_loss: 3.5118\n",
      "Epoch 15/50\n",
      "281/281 [==============================] - 162s 578ms/step - loss: 3.0366 - val_loss: 3.4903\n",
      "Epoch 16/50\n",
      "281/281 [==============================] - 166s 590ms/step - loss: 2.9802 - val_loss: 3.4724\n",
      "Epoch 17/50\n",
      "281/281 [==============================] - 164s 584ms/step - loss: 2.9302 - val_loss: 3.4582\n",
      "Epoch 18/50\n",
      "281/281 [==============================] - 164s 583ms/step - loss: 2.8819 - val_loss: 3.4484\n",
      "Epoch 19/50\n",
      "281/281 [==============================] - 163s 581ms/step - loss: 2.8367 - val_loss: 3.4362\n",
      "Epoch 20/50\n",
      "281/281 [==============================] - 165s 586ms/step - loss: 2.7943 - val_loss: 3.4346\n",
      "Epoch 21/50\n",
      "281/281 [==============================] - 164s 583ms/step - loss: 2.7542 - val_loss: 3.4279\n",
      "Epoch 22/50\n",
      "281/281 [==============================] - 164s 583ms/step - loss: 2.7174 - val_loss: 3.4189\n",
      "Epoch 23/50\n",
      "281/281 [==============================] - 164s 582ms/step - loss: 2.6824 - val_loss: 3.4090\n",
      "Epoch 24/50\n",
      "281/281 [==============================] - 160s 570ms/step - loss: 2.6492 - val_loss: 3.4087\n",
      "Epoch 25/50\n",
      "281/281 [==============================] - 164s 584ms/step - loss: 2.6167 - val_loss: 3.4049\n",
      "Epoch 26/50\n",
      "281/281 [==============================] - 164s 582ms/step - loss: 2.5867 - val_loss: 3.4072\n",
      "Epoch 27/50\n",
      "281/281 [==============================] - 164s 583ms/step - loss: 2.5570 - val_loss: 3.4062\n",
      "Epoch 00027: early stopping\n"
     ]
    }
   ],
   "source": [
    "model.compile(optimizer='rmsprop', loss='sparse_categorical_crossentropy')#이번 회차는 데이터 수가 많아서 그런지 전처리나 학습에 많은 시간이 걸렸다. 그래서 \n",
    "es = EarlyStopping(monitor='val_loss', patience=2, verbose=1)#EarlyStopping이 더 유용했던거 같다. 의미없는 학습을 방지하여 오버피팅도 막으면서 시간도 절약\n",
    "history = model.fit(x=[encoder_input_train, decoder_input_train], y=decoder_target_train, \\\n",
    "          validation_data=([encoder_input_test, decoder_input_test], decoder_target_test), \\\n",
    "          batch_size=256, callbacks=[es], epochs=50)"
   ]
  },
  {
   "cell_type": "code",
   "execution_count": 40,
   "id": "42bcc879",
   "metadata": {},
   "outputs": [
    {
     "data": {
      "image/png": "[encoded data removed]",
      "text/plain": [
       "<Figure size 432x288 with 1 Axes>"
      ]
     },
     "metadata": {
      "needs_background": "light"
     },
     "output_type": "display_data"
    }
   ],
   "source": [
    "plt.plot(history.history['loss'], label='train')\n",
    "plt.plot(history.history['val_loss'], label='test')\n",
    "plt.legend()\n",
    "plt.show()"
   ]
  },
  {
   "cell_type": "code",
   "execution_count": 41,
   "id": "819627ab",
   "metadata": {},
   "outputs": [
    {
     "name": "stdout",
     "output_type": "stream",
     "text": [
      "=3\n"
     ]
    }
   ],
   "source": [
    "src_index_to_word = src_tokenizer.index_word # 원문 단어 집합에서 정수 -> 단어를 얻음\n",
    "tar_word_to_index = tar_tokenizer.word_index # 요약 단어 집합에서 단어 -> 정수를 얻음\n",
    "tar_index_to_word = tar_tokenizer.index_word # 요약 단어 집합에서 정수 -> 단어를 얻음\n",
    "\n",
    "print('=3')"
   ]
  },
  {
   "cell_type": "code",
   "execution_count": 42,
   "id": "73825e46",
   "metadata": {},
   "outputs": [
    {
     "name": "stdout",
     "output_type": "stream",
     "text": [
      "=3\n"
     ]
    }
   ],
   "source": [
    "# 인코더 설계\n",
    "encoder_model = Model(inputs=encoder_inputs, outputs=[encoder_outputs, state_h, state_c])\n",
    "\n",
    "# 이전 시점의 상태들을 저장하는 텐서\n",
    "decoder_state_input_h = Input(shape=(hidden_size,))\n",
    "decoder_state_input_c = Input(shape=(hidden_size,))\n",
    "\n",
    "dec_emb2 = dec_emb_layer(decoder_inputs)\n",
    "\n",
    "# 문장의 다음 단어를 예측하기 위해서 초기 상태(initial_state)를 이전 시점의 상태로 사용. 이는 뒤의 함수 decode_sequence()에 구현\n",
    "# 훈련 과정에서와 달리 LSTM의 리턴하는 은닉 상태와 셀 상태인 state_h와 state_c를 버리지 않음.\n",
    "decoder_outputs2, state_h2, state_c2 = decoder_lstm(dec_emb2, initial_state=[decoder_state_input_h, decoder_state_input_c])\n",
    "\n",
    "print('=3')"
   ]
  },
  {
   "cell_type": "code",
   "execution_count": 43,
   "id": "e170c9ed",
   "metadata": {},
   "outputs": [
    {
     "name": "stdout",
     "output_type": "stream",
     "text": [
      "=3\n"
     ]
    }
   ],
   "source": [
    "# 어텐션 함수\n",
    "decoder_hidden_state_input = Input(shape=(text_max_len, hidden_size))\n",
    "attn_out_inf = attn_layer([decoder_outputs2, decoder_hidden_state_input])\n",
    "decoder_inf_concat = Concatenate(axis=-1, name='concat')([decoder_outputs2, attn_out_inf])\n",
    "\n",
    "# 디코더의 출력층\n",
    "decoder_outputs2 = decoder_softmax_layer(decoder_inf_concat) \n",
    "\n",
    "# 최종 디코더 모델\n",
    "decoder_model = Model(\n",
    "    [decoder_inputs] + [decoder_hidden_state_input,decoder_state_input_h, decoder_state_input_c],\n",
    "    [decoder_outputs2] + [state_h2, state_c2])\n",
    "\n",
    "print('=3')"
   ]
  },
  {
   "cell_type": "code",
   "execution_count": 44,
   "id": "7481f20a",
   "metadata": {},
   "outputs": [
    {
     "name": "stdout",
     "output_type": "stream",
     "text": [
      "=3\n"
     ]
    }
   ],
   "source": [
    "def decode_sequence(input_seq):\n",
    "    # 입력으로부터 인코더의 상태를 얻음\n",
    "    e_out, e_h, e_c = encoder_model.predict(input_seq)\n",
    "\n",
    "     # <SOS>에 해당하는 토큰 생성\n",
    "    target_seq = np.zeros((1,1))\n",
    "    target_seq[0, 0] = tar_word_to_index['sostoken']\n",
    "\n",
    "    stop_condition = False\n",
    "    decoded_sentence = ''\n",
    "    while not stop_condition: # stop_condition이 True가 될 때까지 루프 반복\n",
    "\n",
    "        output_tokens, h, c = decoder_model.predict([target_seq] + [e_out, e_h, e_c])\n",
    "        sampled_token_index = np.argmax(output_tokens[0, -1, :])\n",
    "        sampled_token = tar_index_to_word[sampled_token_index]\n",
    "\n",
    "        if (sampled_token!='eostoken'):\n",
    "            decoded_sentence += ' '+sampled_token\n",
    "\n",
    "        #  <eos>에 도달하거나 최대 길이를 넘으면 중단.\n",
    "        if (sampled_token == 'eostoken'  or len(decoded_sentence.split()) >= (headlines_max_len-1)):\n",
    "            stop_condition = True\n",
    "\n",
    "        # 길이가 1인 타겟 시퀀스를 업데이트\n",
    "        target_seq = np.zeros((1,1))\n",
    "        target_seq[0, 0] = sampled_token_index\n",
    "\n",
    "        # 상태를 업데이트 합니다.\n",
    "        e_h, e_c = h, c\n",
    "\n",
    "    return decoded_sentence\n",
    "print('=3')"
   ]
  },
  {
   "cell_type": "code",
   "execution_count": 45,
   "id": "03150d86",
   "metadata": {},
   "outputs": [
    {
     "name": "stdout",
     "output_type": "stream",
     "text": [
      "=3\n"
     ]
    }
   ],
   "source": [
    "# 원문의 정수 시퀀스를 텍스트 시퀀스로 변환\n",
    "def seq2text(input_seq):\n",
    "    temp=''\n",
    "    for i in input_seq:\n",
    "        if (i!=0):\n",
    "            temp = temp + src_index_to_word[i]+' '\n",
    "    return temp\n",
    "\n",
    "# 요약문의 정수 시퀀스를 텍스트 시퀀스로 변환\n",
    "def seq2headlines(input_seq):\n",
    "    temp=''\n",
    "    for i in input_seq:\n",
    "        if ((i!=0 and i!=tar_word_to_index['sostoken']) and i!=tar_word_to_index['eostoken']):\n",
    "            temp = temp + tar_index_to_word[i] + ' '\n",
    "    return temp\n",
    "\n",
    "print('=3')"
   ]
  },
  {
   "cell_type": "code",
   "execution_count": 46,
   "id": "c11d949d",
   "metadata": {},
   "outputs": [
    {
     "name": "stdout",
     "output_type": "stream",
     "text": [
      "원문 : seventeen tourists flying hot air balloon crashed lake near walt disney world us florida sunday pilot said sorry folks gonna get little bit wet wind swept balloon away designated landing strip lake tourists swim shore injured \n",
      "실제 요약 : hot air balloon with tourists crashes into lake \n",
      "예측 요약 :  plane crash crashes into plane crashes into tree\n",
      "\n",
      "\n",
      "원문 : afghanistan year old spinner rashid khan defended runs final hand side one run win bangladesh thereby completing whitewash series rashid picked wicket first ball final bangladesh lost wicket run final delivery match \n",
      "실제 요약 : afghanistan run win completes clean over desh \n",
      "예측 요약 :  rashid khan rashid khan win runs in overs\n",
      "\n",
      "\n",
      "원문 : imran khan former wife khan claimed book pakistani cricketer turned politician hand country extremists wins upcoming general elections describing imran mr turn said everyone including opponents marriage imran lasted months \n",
      "실제 요약 : imran khan will hand over pakistan to ex wife \n",
      "예측 요약 :  imran khan is the most of pak pm imran khan\n",
      "\n",
      "\n",
      "원문 : year old biker died wednesday iron wire used tie police together got around neck slit throat delhi police said autopsy report ascertain whether died getting strangled due cutting throat reportedly driving high speed see wire \n",
      "실제 요약 : delhi biker dies after police throat \n",
      "예측 요약 :  mumbai boy dies after being hit by an floor\n",
      "\n",
      "\n",
      "원문 : first look sidharth malhotra jacqueline fernandez starrer gentleman released monday film earlier titled shot bangkok miami mumbai goa written directed raj krishna dk film set release august \n",
      "실제 요약 : first look of sidharth jacqueline released \n",
      "예측 요약 :  trailer of sunny leone from film released\n",
      "\n",
      "\n",
      "원문 : madras high court ruled drivers need carry physical copies licence vehicle documents electronic copies valid disposed various petitions memorandum saying vehicle drivers carry original documents view amendment brought union india november petitions become observed \n",
      "실제 요약 : no need to carry physical copies of driving licence madras hc \n",
      "예측 요약 :  cannot take action against govt for new bombay hc\n",
      "\n",
      "\n",
      "원문 : new poster october featuring lead stars varun dhawan banita sandhu unveiled sharing poster varun tweeted sometimes greatest way say something say nothing baby cannot help directed shoojit sircar film scheduled release april \n",
      "실제 요약 : new poster of varun dhawan october out \n",
      "예측 요약 :  varun dhawan to star in varun starrer october\n",
      "\n",
      "\n",
      "원문 : finance minister arun jaitley sunday said country gdp growth unless benefits clear agriculture sector sector top priority maximum population dependent added notably government pegged agriculture allied sector growth fiscal \n",
      "실제 요약 : gdp growth not unless benefits reach farmers fm \n",
      "예측 요약 :  gst is not fm arun jaitley\n",
      "\n",
      "\n",
      "원문 : bjp mla sangeet survived attack thursday unidentified assailants opened fire hurled hand grenade house uttar pradesh meerut attackers reportedly opened fire minutes entered house also tried house guard foiled attempt police recovered grenade explode \n",
      "실제 요약 : grenade open fire at bjp mla house \n",
      "예측 요약 :  bjp mla shot dead after bomb attack in pakistan\n",
      "\n",
      "\n",
      "원문 : left handed batsman rishabh pant became first india wicketkeeper dismissed golden duck format getting dismissed first delivery third australia sunday earlier year pant hit six test career first scoring shot making test debut england \n",
      "실제 요약 : pant st indian wicketkeeper to get out for golden duck \n",
      "예측 요약 :  rishabh pant st test cricketer to hit the same time in\n",
      "\n",
      "\n",
      "원문 : year old passenger patna suffered cardiac arrest died onboard recent jet airways flight delhi mumbai family fellow passenger accused crew members negligence alleging given immediate medical assistance oxygen supply however airline denied allegations \n",
      "실제 요약 : flyer dies onboard jet airways flight family blames airline \n",
      "예측 요약 :  woman body found dead in delhi air\n",
      "\n",
      "\n",
      "원문 : five time world champion lewis hamilton four time world champion sebastian vettel exchanged helmets mark respect following season ending abu dhabi grand prix kind honorary thing drivers highest kind regard respect drivers hamilton said video \n",
      "실제 요약 : hamilton and swap helmets as mark of respect \n",
      "예측 요약 :  world champ wins his world title for the time\n",
      "\n",
      "\n",
      "원문 : first look poster harshvardhan kapoor starrer bhavesh joshi superhero released film directed vikramaditya motwane known directing films like earlier talking film harshvardhan clarified superhero movie bhavesh joshi superhero scheduled release may \n",
      "실제 요약 : st poster of joshi superhero out \n",
      "예측 요약 :  first look poster of cannes film released\n",
      "\n",
      "\n",
      "원문 : talking bollywood song tu tu hai played welcome china prime minister narendra modi saturday said feels great hear indian music foreign soil pm statement response singer asha question asking felt heard song played \n",
      "실제 요약 : feels great to hear indian music on foreign soil pm modi \n",
      "예측 요약 :  pm modi is great pm modi on bollywood couch\n",
      "\n",
      "\n",
      "원문 : indian wrestlers participated recently concluded commonwealth games gold coast medal sumit malik rahul aware bajrang sushil kumar phogat bagged gold medals babita kumari pooja clinched silver medals meanwhile sakshi malik divya kiran settled bronze \n",
      "실제 요약 : india sent to cwg all of them won medals \n",
      "예측 요약 :  india gold medalist sakshi passes away at cwg\n",
      "\n",
      "\n",
      "원문 : american tennis player venus williams reached settlement wrongful death lawsuit filed family year old man killed florida car crash last year venus involved collision june sent hospital venus wife driving car previously cleared \n",
      "실제 요약 : venus settles lawsuit with family of yr old who died in crash \n",
      "예측 요약 :  player who gave me to crash her champ shot dead\n",
      "\n",
      "\n",
      "원문 : music composer anu malik stepped indian idol judge multiple sexual harassment allegations decided take break currently unable focus work said malik earlier shweta pandit called alleging asked kiss sona mohapatra called serial predator \n",
      "실제 요약 : anu malik steps down as indian idol judge after metoo allegations \n",
      "예측 요약 :  metoo winning director accused of sexual harassment\n",
      "\n",
      "\n",
      "원문 : daughters taught good touch bad touch madhya pradesh chief minister shivraj singh chouhan said thursday found cases close relatives added cm led cabinet november approved death penalty rapists involved cases victims girls age years \n",
      "실제 요약 : daughters should be taught about good bad touch mp cm \n",
      "예측 요약 :  will not be like if he is not guilty of andhra\n",
      "\n",
      "\n",
      "원문 : former us president barack obama named admired man country th year row securing votes poll conducted president donald trump took second place votes meanwhile hillary clinton named admired woman th year row \n",
      "실제 요약 : obama beats trump to be named the most man in us \n",
      "예측 요약 :  obama obama to be named as prez of us polls\n",
      "\n",
      "\n",
      "원문 : us threatened action maldives upcoming presidential elections held free fair manner called release falsely accused political prisoners expressing concerns democratic us called maldives executive end interference parliament judiciary respect human rights \n",
      "실제 요약 : us threatens action if maldives fails to hold fair elections \n",
      "예측 요약 :  us presidential candidate passes away\n",
      "\n",
      "\n",
      "원문 : reacting old picture actress priyanka chopra seen sporting user tweeted seems caught fever another user wrote priyanka chopra tries meanwhile another user tweeted jon snow dies india red woman need nn \n",
      "실제 요약 : twitter reacts to look of priyanka in old picture \n",
      "예측 요약 :  twitter reacts to priyanka chopra trolled for engagement\n",
      "\n",
      "\n",
      "원문 : uk pm theresa may friday repeated us president donald trump wrong three anti muslim videos posted british far right group trump wednesday slammed may asked focus radical islamic terrorism taking place country spokesman said wrong president done \n",
      "실제 요약 : uk pm may criticises trump again for anti muslim \n",
      "예측 요약 :  uk pm kriti hota hota hai to trump\n",
      "\n",
      "\n",
      "원문 : woman paris metro fined walking wrong way sparking outrage social media partner tweeted bravo racket fine without notice pregnant woman however metro operator stood penalty saying one way systems aimed avoiding incidents controlling flow people \n",
      "실제 요약 : paris metro fines woman for walking wrong way \n",
      "예측 요약 :  woman fined lakh for wearing on wrong\n",
      "\n",
      "\n",
      "원문 : jailed aiadmk leader sasikala released parole friday meet ailing husband visit hospital husband admitted stay residence mentioned parole application restricted participating political public activities cannot interact media personnel five days parole \n",
      "실제 요약 : what restrictions were imposed on sasikala while on parole \n"
     ]
    },
    {
     "name": "stdout",
     "output_type": "stream",
     "text": [
      "예측 요약 :  sasikala husband parole to husband parole in jail\n",
      "\n",
      "\n",
      "원문 : chinese customs officials seized nearly tonnes scales ship shenzhen biggest volume seized chinese customs single case scales used traditional ailments asthma estimated come least africa \n",
      "실제 요약 : chinese customs officials seize kg of scales \n",
      "예측 요약 :  world largest found in china\n",
      "\n",
      "\n",
      "원문 : government doubled cap pradhan mantri jan dhan yojana scheme earlier aimed provide bank account every indian household provide bank account every individual finance minister arun jaitley said age limit availing increased years \n",
      "실제 요약 : cabinet doubles jan cap to \n",
      "예측 요약 :  govt approves lakh for senior citizens\n",
      "\n",
      "\n",
      "원문 : world richest man jeff bezos led commerce major amazon tuesday became second publicly traded us company hit trillion market capitalisation apple amazon stock needed hit price reach trillion mark amazon stock doubled last months gained \n",
      "실제 요약 : amazon hits trillion market after apple \n",
      "예측 요약 :  world richest man bezos net worth more than apple\n",
      "\n",
      "\n",
      "원문 : egypt military arrested former army general sami announced plans contest elections president al aides claimed army accused military declaring several presidential withdrawn presidential run citing fear intimidation \n",
      "실제 요약 : egypt arrests ex general after he announced presidential bid \n",
      "예측 요약 :  arrested for plot to be held in iraq\n",
      "\n",
      "\n",
      "원문 : north korea said high time us ended moves imposing sanctions country urging us understand position north korea added us adopt serious attitude maintaining peace korean peninsula comes ahead talks two countries later year \n",
      "실제 요약 : high time us ended its sanctions north korea \n",
      "예측 요약 :  us sanctions korea on north korea\n",
      "\n",
      "\n",
      "원문 : rbi said imposed crore penalty state owned union bank india non compliance know customer norms two separate cases examining reports related fraud bank rbi imposed crore penalty another crore penalty related complaint regarding huge cash withdrawals certain accounts \n",
      "실제 요약 : rbi imposes crore penalty on union bank of india \n",
      "예측 요약 :  rbi imposes crore penalty on rbi bank\n",
      "\n",
      "\n",
      "원문 : squirrel charged criminal mischief released bail us police damaging wires christmas lights new jersey sea police department managed take photos squirrel wires shared facebook notably police officers earlier believed damaging wires \n",
      "실제 요약 : charged with criminal released on bail \n",
      "예측 요약 :  us man convicted of using guns to\n",
      "\n",
      "\n",
      "원문 : us based cryptocurrency exchange hours site initiated system upgrade thursday morning engineers earlier estimated would two hours users reacted user tweeting best platform avoid panic selling work sh hits fan \n",
      "실제 요약 : us cryptocurrency exchange down for over hrs \n",
      "예측 요약 :  us firm makes second cryptocurrency to\n",
      "\n",
      "\n",
      "원문 : national commission women chairperson rekha sharma said existing sexual harassment women workplace act proper unless law changes able much added also admitted compared outrage social media number cases registered far low \n",
      "실제 요약 : law against sexual harassment at workplace \n",
      "예측 요약 :  sexual harassment cases of sexual harassment cases\n",
      "\n",
      "\n",
      "원문 : differently abled couple convinced guests wedding fill forms organ donation sonepat tuesday shivani ashwini took eight pledge support organ donation efforts convinced guests fill forms shivani said decided marry ashwini promised raise awareness organ donation \n",
      "실제 요약 : disabled couple get guests at wedding to pledge organs \n",
      "예측 요약 :  couple in uk wedding card goes viral\n",
      "\n",
      "\n",
      "원문 : letter bcci regarding dropped mithali raj wrote coach ramesh powar destroy women world revealed powar insulted even allowing join team semi final could control tears given years added \n",
      "실제 요약 : coach me could not control tears in wt semi mithali \n",
      "예측 요약 :  mithali and mithali and are not mithali\n",
      "\n",
      "\n",
      "원문 : fans jokingly declared australia pacer pat cummins next australia pm following performance melbourne test pacer said think would like job prime minister job lot pacer added attending new year day celebrations australia pm residence \n",
      "실제 요약 : would not like prime minister job australia fast bowler \n",
      "예측 요약 :  aus captain should be called for me aus coach\n",
      "\n",
      "\n",
      "원문 : biplab deb chief tripura bjp sworn new chief minister tripura friday ceremony also attended prime minister narendra modi leading alliance bjp indigenous people front tripura notably bjp secured seats member assembly seats \n",
      "실제 요약 : bjp sworn in as tripura chief minister \n",
      "예측 요약 :  bjp to be renamed after pm modi in tripura\n",
      "\n",
      "\n",
      "원문 : himachal pradesh assembly polls held november counting take place december election commission announced thursday schedule gujarat polls announced separately held december notably congress ruling himachal since bjp governing gujarat since \n",
      "실제 요약 : himachal polls to be held on nov guj polls before dec \n",
      "예측 요약 :  himachal cm wins himachal pradesh assembly elections\n",
      "\n",
      "\n",
      "원문 : speaking australian cricket team ongoing pay dispute australian cricket board vice captain david warner said unemployed contracts cannot play cricket australia threatened pay contracted players beyond june expiry current financial deal accept new offer \n",
      "실제 요약 : australian team cannot play without new contracts warner \n",
      "예측 요약 :  icc rules out of australia cricket team\n",
      "\n",
      "\n",
      "원문 : filmmaker mukesh denied reports actor sushant singh got extra friendly lead actress upcoming film aur manny reports said felt uncomfortable sushant advances led delay film shooting speculation wild imagination mukesh wrote twitter \n",
      "실제 요약 : mukesh denies report that sushant got extra friendly with actress \n",
      "예측 요약 :  not to replace in film with report\n",
      "\n",
      "\n",
      "원문 : pm narendra modi laid foundation stone navi mumbai international airport sunday maharashtra governor rao chief minister devendra fadnavis along union minister nitin gadkari also attended ceremony airport built cost crore five times estimated cost first proposed \n",
      "실제 요약 : pm modi lays foundation stone for mumbai int airport \n",
      "예측 요약 :  pm modi inaugurates metro expressway for crore\n",
      "\n",
      "\n",
      "원문 : new song upcoming film gentleman sundar risky shows actress jacqueline fernandez pole dancing song composed sachin jigar vocals vishal dadlani gandhi lyrics directed krishna dk raj film also stars sidharth malhotra scheduled release august \n",
      "실제 요약 : new song from shows jacqueline pole dancing \n",
      "예측 요약 :  song from song from salman khan released\n",
      "\n",
      "\n",
      "원문 : two villagers shot dead naxals suspicion police district bihar note naxals found near bodies stated punishment police police launched probe case even villagers protested killings \n",
      "실제 요약 : killed by naxals on suspicion of being police \n",
      "예측 요약 :  bihar cops kill self after being shot dead in bihar\n",
      "\n",
      "\n",
      "원문 : indian army jawan killed accidental firing rifle poonch area jammu kashmir meanwhile pro defence lieutenant colonel manish mehta denied reports jawan killed ceasefire violation many eight pakistani army soldiers killed india retaliated ceasefire violation along loc rajouri monday \n",
      "실제 요약 : army jawan killed in accidental firing from his own rifle \n",
      "예측 요약 :  army jawan martyred in ceasefire violation by pak\n",
      "\n",
      "\n",
      "원문 : olympic silver medalist pv sindhu moved spot reach fourth rank latest bwf world rankings released thursday indian shuttler kidambi srikanth two superseries tournaments year dropped two places tenth spot notably indian pair top men doubles rankings \n",
      "실제 요약 : pv sindhu rises spot to th place in world rankings \n",
      "예측 요약 :  sindhu sindhu sindhu among world number in rankings\n",
      "\n",
      "\n",
      "원문 : rafael nadal sunday defeated win french open record extending th time defeated seven different opponents french open finals world number one defeated mariano win maiden french open title year old nadal clinched titles defeating roger federer \n",
      "실제 요약 : nadal has different men in french open finals \n",
      "예측 요약 :  nadal wins th straight win title of the world title\n",
      "\n",
      "\n",
      "원문 : speaking launch book counsel challenges modi jaitley economy former chief economic adviser arvind subramanian revealed hours sleeping little much period subramanian returned quitting finance ministry said transition tough resigned june citing personal reasons \n",
      "실제 요약 : was up hrs slept very little during my term former cea \n",
      "예측 요약 :  manmohan singh was an upa ex pm manmohan singh\n",
      "\n",
      "\n",
      "원문 : home ministry authorised agencies monitor intercept information generated transmitted received stored computer agencies include intelligence bureau cbi delhi police commissioner raw narcotics control bureau government direct agency interest sovereignty defence india security state among others \n",
      "실제 요약 : agencies can monitor information on any computer in india \n"
     ]
    },
    {
     "name": "stdout",
     "output_type": "stream",
     "text": [
      "예측 요약 :  centre issues notice to centre for anti\n",
      "\n",
      "\n",
      "원문 : spanish club fc barcelona became first sports team world surpass billion mark revenues spanish club presented annual accounts tuesday claimed earned billion season barcelona revealed eighth straight year club closed profit \n",
      "실제 요약 : barca world st sports club to bn in \n",
      "예측 요약 :  barcelona becomes world most expensive\n",
      "\n",
      "\n",
      "원문 : year old woman accused india institute medical sciences patna authorities giving improper medication made suffer attack physician institute prescribed drug called cure symptoms private drug store institute provided drug meant address psychiatric concerns \n",
      "실제 요약 : woman suffers attack after aiims gives wrong \n",
      "예측 요약 :  doctor found in cancer in delhi\n",
      "\n",
      "\n"
     ]
    }
   ],
   "source": [
    "for i in range(50, 100):\n",
    "    print(\"원문 :\", seq2text(encoder_input_test[i]))\n",
    "    print(\"실제 요약 :\", seq2headlines(decoder_input_test[i]))\n",
    "    print(\"예측 요약 :\", decode_sequence(encoder_input_test[i].reshape(1, text_max_len)))\n",
    "    print(\"\\n\")"
   ]
  },
  {
   "cell_type": "code",
   "execution_count": 47,
   "id": "6c5bbff7",
   "metadata": {},
   "outputs": [],
   "source": [
    "import requests\n",
    "from summa.summarizer import summarize #Abstractive 요약과 비교하기 위해서 Extractive 요약"
   ]
  },
  {
   "cell_type": "code",
   "execution_count": 48,
   "id": "88336bb6",
   "metadata": {},
   "outputs": [],
   "source": [
    "urllib.request.urlretrieve(\"https://raw.githubusercontent.com/sunnysai12345/News_Summary/master/news_summary_more.csv\", filename=\"news_summary_more.csv\")\n",
    "data = pd.read_csv('news_summary_more.csv', encoding='iso-8859-1')"
   ]
  },
  {
   "cell_type": "code",
   "execution_count": 49,
   "id": "8d3785b0",
   "metadata": {},
   "outputs": [
    {
     "data": {
      "text/plain": [
       "\"Saurav Kant, an alumnus of upGrad and IIIT-B's PG Program in Machine learning and Artificial Intelligence, was a Sr Systems Engineer at Infosys with almost 5 years of work experience. The program and upGrad's 360-degree career support helped him transition to a Data Scientist at Tech Mahindra with 90% salary hike. upGrad's Online Power Learning has powered 3 lakh+ careers.\""
      ]
     },
     "execution_count": 49,
     "metadata": {},
     "output_type": "execute_result"
    }
   ],
   "source": [
    "text = data['text']\n",
    "text[0]"
   ]
  },
  {
   "cell_type": "code",
   "execution_count": 50,
   "id": "0b19b19f",
   "metadata": {},
   "outputs": [
    {
     "name": "stdout",
     "output_type": "stream",
     "text": [
      "Summary:\n",
      "upGrad's Online Power Learning has powered 3 lakh+ careers.\n"
     ]
    }
   ],
   "source": [
    "print('Summary:')\n",
    "print(summarize(text[0], words=5))"
   ]
  },
  {
   "cell_type": "code",
   "execution_count": 51,
   "id": "2d308e47",
   "metadata": {},
   "outputs": [
    {
     "name": "stdout",
     "output_type": "stream",
     "text": [
      "Summary:\n",
      "[\"upGrad's Online Power Learning has powered 3 lakh+ careers.\"]\n"
     ]
    }
   ],
   "source": [
    "# 리스트로 출력결과 받기\n",
    "print('Summary:')\n",
    "print(summarize(text[0], ratio=0.4, split=True))"
   ]
  },
  {
   "cell_type": "code",
   "execution_count": 52,
   "id": "c3e0b877",
   "metadata": {},
   "outputs": [],
   "source": [
    "headlines = []\n",
    "for i in range(len(text)):\n",
    "    headline = summarize(text[i], ratio=0.4)\n",
    "    headlines.append(headline)"
   ]
  },
  {
   "cell_type": "code",
   "execution_count": 53,
   "id": "ea17d4c4",
   "metadata": {},
   "outputs": [
    {
     "data": {
      "text/plain": [
       "[\"upGrad's Online Power Learning has powered 3 lakh+ careers.\",\n",
       " 'Users get one CRED coin per rupee of bill paid, which can be used to avail rewards from brands like Ixigo, BookMyShow, UberEats, Cult.Fit and more.',\n",
       " 'The match witnessed India getting all out for 92, their seventh lowest total in ODI cricket history.',\n",
       " 'Also, customers have options to insure against Critical Illnesses, Disability and Accidental Death Benefit Rider with a life cover up to the age of 80 years.',\n",
       " 'Speaking about the sexual harassment allegations against Rajkumar Hirani, Sonam Kapoor said, \"I\\'ve known Hirani for many years...What if it\\'s not true, the [#MeToo] movement will get derailed.\" \"In the #MeToo movement, I always believe a woman.']"
      ]
     },
     "execution_count": 53,
     "metadata": {},
     "output_type": "execute_result"
    }
   ],
   "source": [
    "headlines[:5]"
   ]
  },
  {
   "cell_type": "code",
   "execution_count": 54,
   "id": "86e24e99",
   "metadata": {},
   "outputs": [
    {
     "name": "stdout",
     "output_type": "stream",
     "text": [
      "원문 : Saurav Kant, an alumnus of upGrad and IIIT-B's PG Program in Machine learning and Artificial Intelligence, was a Sr Systems Engineer at Infosys with almost 5 years of work experience. The program and upGrad's 360-degree career support helped him transition to a Data Scientist at Tech Mahindra with 90% salary hike. upGrad's Online Power Learning has powered 3 lakh+ careers.\n",
      "실제 헤드라인 : upGrad learner switches to career in ML & Al with 90% salary hike\n",
      "예측 헤드라인 : upGrad's Online Power Learning has powered 3 lakh+ careers.\n",
      "\n",
      "\n",
      "원문 : Kunal Shah's credit card bill payment platform, CRED, gave users a chance to win free food from Swiggy for one year. Pranav Kaushik, a Delhi techie, bagged this reward after spending 2000 CRED coins. Users get one CRED coin per rupee of bill paid, which can be used to avail rewards from brands like Ixigo, BookMyShow, UberEats, Cult.Fit and more.\n",
      "실제 헤드라인 : Delhi techie wins free food from Swiggy for one year on CRED\n",
      "예측 헤드라인 : Users get one CRED coin per rupee of bill paid, which can be used to avail rewards from brands like Ixigo, BookMyShow, UberEats, Cult.Fit and more.\n",
      "\n",
      "\n",
      "원문 : New Zealand defeated India by 8 wickets in the fourth ODI at Hamilton on Thursday to win their first match of the five-match ODI series. India lost an international match under Rohit Sharma's captaincy after 12 consecutive victories dating back to March 2018. The match witnessed India getting all out for 92, their seventh lowest total in ODI cricket history.\n",
      "실제 헤드라인 : New Zealand end Rohit Sharma-led India's 12-match winning streak\n",
      "예측 헤드라인 : The match witnessed India getting all out for 92, their seventh lowest total in ODI cricket history.\n",
      "\n",
      "\n",
      "원문 : With Aegon Life iTerm Insurance plan, customers can enjoy tax benefits on your premiums paid and save up to Ã¢ÂÂ¹46,800^ on taxes. The plan provides life cover up to the age of 100 years. Also, customers have options to insure against Critical Illnesses, Disability and Accidental Death Benefit Rider with a life cover up to the age of 80 years.\n",
      "실제 헤드라인 : Aegon life iTerm insurance plan helps customers save tax\n",
      "예측 헤드라인 : Also, customers have options to insure against Critical Illnesses, Disability and Accidental Death Benefit Rider with a life cover up to the age of 80 years.\n",
      "\n",
      "\n",
      "원문 : Speaking about the sexual harassment allegations against Rajkumar Hirani, Sonam Kapoor said, \"I've known Hirani for many years...What if it's not true, the [#MeToo] movement will get derailed.\" \"In the #MeToo movement, I always believe a woman. But in this case, we need to reserve our judgment,\" she added. Hirani has been accused by an assistant who worked in 'Sanju'.\n",
      "실제 헤드라인 : Have known Hirani for yrs, what if MeToo claims are not true: Sonam\n",
      "예측 헤드라인 : Speaking about the sexual harassment allegations against Rajkumar Hirani, Sonam Kapoor said, \"I've known Hirani for many years...What if it's not true, the [#MeToo] movement will get derailed.\" \"In the #MeToo movement, I always believe a woman.\n",
      "\n",
      "\n",
      "원문 : Pakistani singer Rahat Fateh Ali Khan has denied receiving any notice from the Enforcement Directorate over allegedly smuggling foreign currency out of India. \"It would have been better if the authorities would have served the notice first if any and then publicised this,\" reads a press release issued on behalf of Rahat. The statement further called the allegation \"bizarre\".\n",
      "실제 헤드라인 : Rahat Fateh Ali Khan denies getting notice for smuggling currency\n",
      "예측 헤드라인 : Pakistani singer Rahat Fateh Ali Khan has denied receiving any notice from the Enforcement Directorate over allegedly smuggling foreign currency out of India.\n",
      "\n",
      "\n",
      "원문 : India recorded their lowest ODI total in New Zealand after getting all out for 92 runs in 30.5 overs in the fourth ODI at Hamilton on Thursday. Seven of India's batsmen were dismissed for single-digit scores, while their number ten batsman Yuzvendra Chahal top-scored with 18*(37). India's previous lowest ODI total in New Zealand was 108.\n",
      "실제 헤드라인 : India get all out for 92, their lowest ODI total in New Zealand\n",
      "예측 헤드라인 : India's previous lowest ODI total in New Zealand was 108.\n",
      "\n",
      "\n",
      "원문 : Weeks after ex-CBI Director Alok Verma told the Department of Personnel and Training to consider him retired, the Home Ministry asked him to join work on the last day of his fixed tenure as Director on Thursday. The ministry directed him to immediately join as DG, Fire Services, the post he was transferred to after his removal as CBI chief.\n",
      "실제 헤드라인 : Govt directs Alok Verma to join work 1 day before his retirement\n",
      "예측 헤드라인 : \n",
      "\n",
      "\n",
      "원문 : Andhra Pradesh CM N Chandrababu Naidu has said, \"When I met then US President Bill Clinton, I addressed him as Mr Clinton, not as 'sir'. (PM Narendra) Modi is my junior in politics...I addressed him as sir 10 times.\" \"I did this...to satisfy his ego in the hope that he will do justice to the state,\" he added.\n",
      "실제 헤드라인 : Called PM Modi 'sir' 10 times to satisfy his ego: Andhra CM\n",
      "예측 헤드라인 : \n",
      "\n",
      "\n",
      "원문 : Congress candidate Shafia Zubair won the Ramgarh Assembly seat in Rajasthan, by defeating BJP's Sukhwant Singh with a margin of 12,228 votes in the bypoll. With this victory, Congress has taken its total to 100 seats in the 200-member assembly. The election to the Ramgarh seat was delayed due to the death of sitting MLA and BSP candidate Laxman Singh.\n",
      "실제 헤드라인 : Cong wins Ramgarh bypoll in Rajasthan, takes total to 100 seats\n",
      "예측 헤드라인 : Congress candidate Shafia Zubair won the Ramgarh Assembly seat in Rajasthan, by defeating BJP's Sukhwant Singh with a margin of 12,228 votes in the bypoll.\n",
      "\n",
      "\n"
     ]
    }
   ],
   "source": [
    "for i in range(10):\n",
    "    print(\"원문 :\", data['text'][i])\n",
    "    print(\"실제 헤드라인 :\", data['headlines'][i])\n",
    "    print(\"예측 헤드라인 :\", headlines[i])\n",
    "    print(\"\\n\")"
   ]
  },
  {
   "cell_type": "code",
   "execution_count": 55,
   "id": "f63428c7",
   "metadata": {},
   "outputs": [
    {
     "data": {
      "text/plain": [
       "'뉴스 텍스트를 추상적으로 요약하여 헤드라인을 만들어 보았다. 코딩 과정은 ex의 과정을 따라가면서 하였다. 다르게 해볼려고 데이터 분리때\\n스플릿으로 하려고 하다 3개를 나누려면 k fold? 여튼 너무 복잡해지는것 같아서 그냥 하라는데로 했다. 아직은 색다르게 코딩 하는건 힘들었다.\\n헤드라인을 만들어 보니 너무 거리가 먼 문장도 나왔지만, max len과 단어집합의 크기를 조정 헤드라인과 비슷한 단어가 포함된 헤드라인을 만들 수 있었다.. \\n똑같은 단어를 2번 정도 중복, 문장이 맺어지지 않고 중간에서 끊기거나, 문법적으로 어색한 문장등이 만들어 지는건 해결할 수 없었다.\\n\\nSumma를 이용한 추상적 요약도 시도했는데, 뉴스 원문 자체가 길지 않아 정확한 헤드라인을 뽑아낸다고 보기는 어려웠다. \\nratio나 words를 변경하면서 살펴봤는데, 값을 적게 주면 헤드라인을 추출하지 못했고 큰 값을 주니 너무 많은 것을 추출해 문장의 대부분을 \\n추출하는 경우가 속출해 유의미한 헤드라인이 만들어지지 않았다.\\n하지만 추상적 요약보다는 문법적으로 어색하거나 단어가 중복 되는 문제가 생기는 헤드라인이 만들어 지는 경우는 줄어들었다.'"
      ]
     },
     "execution_count": 55,
     "metadata": {},
     "output_type": "execute_result"
    }
   ],
   "source": [
    "\"\"\"뉴스 텍스트를 추상적으로 요약하여 헤드라인을 만들어 보았다. 코딩 과정은 ex의 과정을 따라가면서 하였다. 다르게 해볼려고 데이터 분리때\n",
    "스플릿으로 하려고 하다 3개를 나누려면 k fold? 여튼 너무 복잡해지는것 같아서 그냥 하라는데로 했다. 아직은 색다르게 코딩 하는건 힘들었다.\n",
    "헤드라인을 만들어 보니 너무 거리가 먼 문장도 나왔지만, max len과 단어집합의 크기를 조정 헤드라인과 비슷한 단어가 포함된 헤드라인을 만들 수 있었다.. \n",
    "똑같은 단어를 2번 정도 중복, 문장이 맺어지지 않고 중간에서 끊기거나, 문법적으로 어색한 문장등이 만들어 지는건 해결할 수 없었다.\n",
    "\n",
    "Summa를 이용한 추상적 요약도 시도했는데, 뉴스 원문 자체가 길지 않아 정확한 헤드라인을 뽑아낸다고 보기는 어려웠다. \n",
    "ratio나 words를 변경하면서 살펴봤는데, 값을 적게 주면 헤드라인을 추출하지 못했고 큰 값을 주니 너무 많은 것을 추출해 문장의 대부분을 \n",
    "추출하는 경우가 속출해 유의미한 헤드라인이 만들어지지 않았다.\n",
    "하지만 추상적 요약보다는 문법적으로 어색하거나 단어가 중복 되는 문제가 생기는 헤드라인이 만들어 지는 경우는 줄어들었다.\"\"\""
   ]
  }
 ],
 "metadata": {
  "kernelspec": {
   "display_name": "Python 3 (ipykernel)",
   "language": "python",
   "name": "python3"
  },
  "language_info": {
   "codemirror_mode": {
    "name": "ipython",
    "version": 3
   },
   "file_extension": ".py",
   "mimetype": "text/x-python",
   "name": "python",
   "nbconvert_exporter": "python",
   "pygments_lexer": "ipython3",
   "version": "3.9.7"
  }
 },
 "nbformat": 4,
 "nbformat_minor": 5
}
