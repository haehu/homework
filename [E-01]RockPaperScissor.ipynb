{
 "cells": [
  {
   "cell_type": "code",
   "execution_count": 1,
   "id": "2fd242e7",
   "metadata": {},
   "outputs": [
    {
     "name": "stdout",
     "output_type": "stream",
     "text": [
      "PIL 라이브러리 import 완료!\n"
     ]
    }
   ],
   "source": [
    "from PIL import Image                   #대구_주민규\n",
    "import glob\n",
    "import os\n",
    "\n",
    "print(\"PIL 라이브러리 import 완료!\")"
   ]
  },
  {
   "cell_type": "code",
   "execution_count": 2,
   "id": "32d582c1",
   "metadata": {},
   "outputs": [
    {
     "name": "stdout",
     "output_type": "stream",
     "text": [
      "2711  images to be resized.\n",
      "2711  images resized.\n",
      "가위 이미지 resize 완료!\n"
     ]
    }
   ],
   "source": [
    "def resize_images(img_path):\n",
    "\timages=glob.glob(img_path + \"/*.jpg\")  \n",
    "    \n",
    "\tprint(len(images), \" images to be resized.\")\n",
    "\n",
    "    # 파일마다 모두 28x28 사이즈로 바꾸어 저장합니다.\n",
    "\ttarget_size=(28,28)\n",
    "\tfor img in images:\n",
    "\t\told_img=Image.open(img)\n",
    "\t\tnew_img=old_img.resize(target_size,Image.ANTIALIAS)\n",
    "\t\tnew_img.save(img, \"JPEG\")\n",
    "    \n",
    "\tprint(len(images), \" images resized.\")\n",
    "\t\n",
    "# 가위 이미지가 저장된 디렉토리 아래의 모든 jpg 파일을 읽어들여서\n",
    "image_dir_path = os.getenv(\"HOME\") + \"/aiffel/train/scissor\"\n",
    "resize_images(image_dir_path)\n",
    "\n",
    "print(\"가위 이미지 resize 완료!\")"
   ]
  },
  {
   "cell_type": "code",
   "execution_count": 3,
   "id": "2af42fef",
   "metadata": {},
   "outputs": [
    {
     "name": "stdout",
     "output_type": "stream",
     "text": [
      "2708  images to be resized.\n",
      "2708  images resized.\n",
      "바위 이미지 resize 완료!\n"
     ]
    }
   ],
   "source": [
    "def resize_images(img_path):\n",
    "\timages=glob.glob(img_path + \"/*.jpg\")  \n",
    "    \n",
    "\tprint(len(images), \" images to be resized.\")\n",
    "\n",
    "    # 파일마다 모두 28x28 사이즈로 바꾸어 저장합니다.\n",
    "\ttarget_size=(28,28)\n",
    "\tfor img in images:\n",
    "\t\told_img=Image.open(img)\n",
    "\t\tnew_img=old_img.resize(target_size,Image.ANTIALIAS)\n",
    "\t\tnew_img.save(img, \"JPEG\")\n",
    "    \n",
    "\tprint(len(images), \" images resized.\")\n",
    "\t\n",
    "# 바위 이미지가 저장된 디렉토리 아래의 모든 jpg 파일을 읽어들여서\n",
    "image_dir_path = os.getenv(\"HOME\") + \"/aiffel/train/rock\"\n",
    "resize_images(image_dir_path)\n",
    "\n",
    "print(\"바위 이미지 resize 완료!\")"
   ]
  },
  {
   "cell_type": "code",
   "execution_count": 4,
   "id": "2c67a15b",
   "metadata": {},
   "outputs": [
    {
     "name": "stdout",
     "output_type": "stream",
     "text": [
      "2704  images to be resized.\n",
      "2704  images resized.\n",
      "보 이미지 resize 완료!\n"
     ]
    }
   ],
   "source": [
    "def resize_images(img_path):\n",
    "\timages=glob.glob(img_path + \"/*.jpg\")  \n",
    "    \n",
    "\tprint(len(images), \" images to be resized.\")\n",
    "\n",
    "    # 파일마다 모두 28x28 사이즈로 바꾸어 저장합니다.\n",
    "\ttarget_size=(28,28)\n",
    "\tfor img in images:\n",
    "\t\told_img=Image.open(img)\n",
    "\t\tnew_img=old_img.resize(target_size,Image.ANTIALIAS)\n",
    "\t\tnew_img.save(img, \"JPEG\")\n",
    "    \n",
    "\tprint(len(images), \" images resized.\")\n",
    "\t\n",
    "# 보 이미지가 저장된 디렉토리 아래의 모든 jpg 파일을 읽어들여서\n",
    "image_dir_path = os.getenv(\"HOME\") + \"/aiffel/train/paper\"\n",
    "resize_images(image_dir_path)\n",
    "\n",
    "print(\"보 이미지 resize 완료!\")"
   ]
  },
  {
   "cell_type": "code",
   "execution_count": 5,
   "id": "6ee7d705",
   "metadata": {},
   "outputs": [
    {
     "name": "stdout",
     "output_type": "stream",
     "text": [
      "학습데이터(x_train)의 이미지 개수는 8123 입니다.\n",
      "x_train shape: (8123, 28, 28, 3)\n",
      "y_train shape: (8123,)\n"
     ]
    }
   ],
   "source": [
    "import numpy as np\n",
    "\n",
    "def load_data(img_path, number_of_data=8123):  # 가위바위보 이미지 개수 총합에 주의하세요.\n",
    "    # 가위 : 0, 바위 : 1, 보 : 2\n",
    "    img_size=28      #28*28로 리사이징 했기 때문에\n",
    "    color=3          #흑백이 아니기 때문에 RGB 3색\n",
    "    #이미지 데이터와 라벨(가위 : 0, 바위 : 1, 보 : 2) 데이터를 담을 행렬(matrix) 영역을 생성합니다.\n",
    "    imgs=np.zeros(number_of_data*img_size*img_size*color,dtype=np.int32).reshape(number_of_data,img_size,img_size,color)\n",
    "    labels=np.zeros(number_of_data,dtype=np.int32)\n",
    "\n",
    "    idx=0\n",
    "    for file in glob.iglob(img_path+'/scissor/*.jpg'):     #노드에 있던 for문 사용 idx를 변화시켜 반복하게 하였다\n",
    "        img = np.array(Image.open(file),dtype=np.int32)\n",
    "        imgs[idx,:,:,:]=img    # 데이터 영역에 이미지 행렬을 복사\n",
    "        labels[idx]=0   # 가위 : 0\n",
    "        idx=idx+1\n",
    "\n",
    "    for file in glob.iglob(img_path+'/rock/*.jpg'):\n",
    "        img = np.array(Image.open(file),dtype=np.int32)\n",
    "        imgs[idx,:,:,:]=img    # 데이터 영역에 이미지 행렬을 복사\n",
    "        labels[idx]=1   # 바위 : 1\n",
    "        idx=idx+1  \n",
    "    \n",
    "    for file in glob.iglob(img_path+'/paper/*.jpg'):\n",
    "        img = np.array(Image.open(file),dtype=np.int32)\n",
    "        imgs[idx,:,:,:]=img    # 데이터 영역에 이미지 행렬을 복사\n",
    "        labels[idx]=2   # 보 : 2\n",
    "        idx=idx+1\n",
    "        \n",
    "    print(\"학습데이터(x_train)의 이미지 개수는\", idx,\"입니다.\")\n",
    "    return imgs, labels\n",
    "\n",
    "image_dir_path = os.getenv(\"HOME\") + \"/aiffel/train\"\n",
    "(x_train, y_train)=load_data(image_dir_path)\n",
    "x_train_norm = x_train/255.0   # 입력은 0~1 사이의 값으로 정규화\n",
    "\n",
    "print(\"x_train shape: {}\".format(x_train.shape))\n",
    "print(\"y_train shape: {}\".format(y_train.shape))"
   ]
  },
  {
   "cell_type": "code",
   "execution_count": 6,
   "id": "6342131d",
   "metadata": {},
   "outputs": [
    {
     "name": "stdout",
     "output_type": "stream",
     "text": [
      "Model에 추가된 Layer 개수:  7\n",
      "Model: \"sequential\"\n",
      "_________________________________________________________________\n",
      "Layer (type)                 Output Shape              Param #   \n",
      "=================================================================\n",
      "conv2d (Conv2D)              (None, 26, 26, 25)        700       \n",
      "_________________________________________________________________\n",
      "max_pooling2d (MaxPooling2D) (None, 13, 13, 25)        0         \n",
      "_________________________________________________________________\n",
      "conv2d_1 (Conv2D)            (None, 11, 11, 64)        14464     \n",
      "_________________________________________________________________\n",
      "max_pooling2d_1 (MaxPooling2 (None, 5, 5, 64)          0         \n",
      "_________________________________________________________________\n",
      "flatten (Flatten)            (None, 1600)              0         \n",
      "_________________________________________________________________\n",
      "dense (Dense)                (None, 64)                102464    \n",
      "_________________________________________________________________\n",
      "dense_1 (Dense)              (None, 3)                 195       \n",
      "=================================================================\n",
      "Total params: 117,823\n",
      "Trainable params: 117,823\n",
      "Non-trainable params: 0\n",
      "_________________________________________________________________\n"
     ]
    }
   ],
   "source": [
    "import tensorflow as tf\n",
    "from tensorflow import keras\n",
    "\n",
    "model=keras.models.Sequential()#시퀀스는 class keras의 models이용 변수 model에 할당시킨다\n",
    "model.add(keras.layers.Conv2D(25, (3,3), activation='relu', input_shape=(28,28,3)))#흑백이 아니므로 RPB 3\n",
    "model.add(keras.layers.MaxPool2D(2,2))\n",
    "model.add(keras.layers.Conv2D(64, (3,3), activation='relu'))          #다양한 특징을 고려하는 변수나 알고리즘의 복잡함을 결정하는 변수로 \n",
    "model.add(keras.layers.MaxPooling2D((2,2)))                           #적절한 변수의 값을 찾으려 했으나 할때마다 값이 너무 달라져서 포기\n",
    "model.add(keras.layers.Flatten())\n",
    "model.add(keras.layers.Dense(64, activation='relu'))\n",
    "model.add(keras.layers.Dense(3, activation='softmax'))#가위바위보 3개\n",
    "\n",
    "print('Model에 추가된 Layer 개수: ', len(model.layers))\n",
    "model.summary()"
   ]
  },
  {
   "cell_type": "code",
   "execution_count": 7,
   "id": "61339997",
   "metadata": {},
   "outputs": [
    {
     "name": "stdout",
     "output_type": "stream",
     "text": [
      "Epoch 1/25\n",
      "254/254 [==============================] - 3s 3ms/step - loss: 0.8506 - accuracy: 0.5910\n",
      "Epoch 2/25\n",
      "254/254 [==============================] - 1s 3ms/step - loss: 0.4814 - accuracy: 0.8105\n",
      "Epoch 3/25\n",
      "254/254 [==============================] - 1s 3ms/step - loss: 0.3196 - accuracy: 0.8818\n",
      "Epoch 4/25\n",
      "254/254 [==============================] - 1s 3ms/step - loss: 0.2384 - accuracy: 0.9142\n",
      "Epoch 5/25\n",
      "254/254 [==============================] - 1s 3ms/step - loss: 0.1600 - accuracy: 0.9424\n",
      "Epoch 6/25\n",
      "254/254 [==============================] - 1s 3ms/step - loss: 0.1225 - accuracy: 0.9594\n",
      "Epoch 7/25\n",
      "254/254 [==============================] - 1s 3ms/step - loss: 0.1032 - accuracy: 0.9658\n",
      "Epoch 8/25\n",
      "254/254 [==============================] - 1s 3ms/step - loss: 0.0708 - accuracy: 0.9785\n",
      "Epoch 9/25\n",
      "254/254 [==============================] - 1s 3ms/step - loss: 0.0489 - accuracy: 0.9874\n",
      "Epoch 10/25\n",
      "254/254 [==============================] - 1s 3ms/step - loss: 0.0333 - accuracy: 0.9915\n",
      "Epoch 11/25\n",
      "254/254 [==============================] - 1s 3ms/step - loss: 0.0406 - accuracy: 0.9878\n",
      "Epoch 12/25\n",
      "254/254 [==============================] - 1s 3ms/step - loss: 0.0353 - accuracy: 0.9897\n",
      "Epoch 13/25\n",
      "254/254 [==============================] - 1s 3ms/step - loss: 0.0444 - accuracy: 0.9861\n",
      "Epoch 14/25\n",
      "254/254 [==============================] - 1s 3ms/step - loss: 0.0295 - accuracy: 0.9919\n",
      "Epoch 15/25\n",
      "254/254 [==============================] - 1s 3ms/step - loss: 0.0257 - accuracy: 0.9932\n",
      "Epoch 16/25\n",
      "254/254 [==============================] - 1s 3ms/step - loss: 0.0102 - accuracy: 0.9985\n",
      "Epoch 17/25\n",
      "254/254 [==============================] - 1s 3ms/step - loss: 0.0068 - accuracy: 0.9989\n",
      "Epoch 18/25\n",
      "254/254 [==============================] - 1s 3ms/step - loss: 0.0068 - accuracy: 0.9993\n",
      "Epoch 19/25\n",
      "254/254 [==============================] - 1s 3ms/step - loss: 0.0047 - accuracy: 0.9996\n",
      "Epoch 20/25\n",
      "254/254 [==============================] - 1s 3ms/step - loss: 0.0358 - accuracy: 0.9884\n",
      "Epoch 21/25\n",
      "254/254 [==============================] - 1s 3ms/step - loss: 0.0652 - accuracy: 0.9797\n",
      "Epoch 22/25\n",
      "254/254 [==============================] - 1s 3ms/step - loss: 0.0080 - accuracy: 0.9990\n",
      "Epoch 23/25\n",
      "254/254 [==============================] - 1s 3ms/step - loss: 0.0029 - accuracy: 0.9999\n",
      "Epoch 24/25\n",
      "254/254 [==============================] - 1s 3ms/step - loss: 0.0041 - accuracy: 0.9993\n",
      "Epoch 25/25\n",
      "254/254 [==============================] - 1s 3ms/step - loss: 0.0034 - accuracy: 0.9996\n"
     ]
    },
    {
     "data": {
      "text/plain": [
       "<keras.callbacks.History at 0x7fabac238490>"
      ]
     },
     "execution_count": 7,
     "metadata": {},
     "output_type": "execute_result"
    }
   ],
   "source": [
    "model.compile(optimizer='adam',\n",
    "             loss='sparse_categorical_crossentropy',\n",
    "             metrics=['accuracy'])\n",
    "\n",
    "model.fit(x_train_norm, y_train, epochs=25)#epochs20=0.68/25=0.7090/30=0.6842 구간을 세세하게 나누진 못했지만 25이상부터 오버피팅이 일어난다고 가정"
   ]
  },
  {
   "cell_type": "code",
   "execution_count": 8,
   "id": "41100230",
   "metadata": {},
   "outputs": [
    {
     "name": "stdout",
     "output_type": "stream",
     "text": [
      "검사 데이터(x_test)의 이미지 개수는 2100 입니다.\n",
      "x_test shape: (2100, 28, 28, 3)\n",
      "y_test shape: (2100,)\n"
     ]
    }
   ],
   "source": [
    "def load_data(img_path, number_of_data=2100):  # 가위바위보 이미지 개수 총합에 주의하세요.\n",
    "    # 가위 : 0, 바위 : 1, 보 : 2\n",
    "    img_size=28                           #위의 train데이터를 만드는 방법과 같다 다만 data 개수나 image_path정도가 달라짐\n",
    "    color=3\n",
    "    #이미지 데이터와 라벨(가위 : 0, 바위 : 1, 보 : 2) 데이터를 담을 행렬(matrix) 영역을 생성합니다.\n",
    "    imgs=np.zeros(number_of_data*img_size*img_size*color,dtype=np.int32).reshape(number_of_data,img_size,img_size,color)\n",
    "    labels=np.zeros(number_of_data,dtype=np.int32)\n",
    "\n",
    "    idx=0\n",
    "    for file in glob.iglob(img_path+'/scissor/*.jpg'):\n",
    "        img = np.array(Image.open(file),dtype=np.int32)\n",
    "        imgs[idx,:,:,:]=img    # 데이터 영역에 이미지 행렬을 복사\n",
    "        labels[idx]=0   # 가위 : 0\n",
    "        idx=idx+1\n",
    "\n",
    "    for file in glob.iglob(img_path+'/rock/*.jpg'):\n",
    "        img = np.array(Image.open(file),dtype=np.int32)\n",
    "        imgs[idx,:,:,:]=img    # 데이터 영역에 이미지 행렬을 복사\n",
    "        labels[idx]=1   # 바위 : 1\n",
    "        idx=idx+1  \n",
    "    \n",
    "    for file in glob.iglob(img_path+'/paper/*.jpg'):\n",
    "        img = np.array(Image.open(file),dtype=np.int32)\n",
    "        imgs[idx,:,:,:]=img    # 데이터 영역에 이미지 행렬을 복사\n",
    "        labels[idx]=2   # 보 : 2\n",
    "        idx=idx+1\n",
    "        \n",
    "    print(\"검사 데이터(x_test)의 이미지 개수는\", idx,\"입니다.\")\n",
    "    return imgs, labels\n",
    "\n",
    "image_dir_path = os.getenv(\"HOME\") + \"/aiffel/test\"\n",
    "(x_test, y_test)=load_data(image_dir_path)\n",
    "x_test_norm = x_test/255.0   # 입력은 0~1 사이의 값으로 정규화 \n",
    "  #정규화를 한 이유는 어디서 시작하든 쉽게 최적값에 도달할 수 있으며, 학습률을 상대적으로 높여서 사용할 수 있게 때문에 빠르게 훈련시킬 수 있다. \n",
    "print(\"x_test shape: {}\".format(x_test.shape))\n",
    "print(\"y_test shape: {}\".format(y_test.shape))"
   ]
  },
  {
   "cell_type": "code",
   "execution_count": 10,
   "id": "5763425a",
   "metadata": {},
   "outputs": [
    {
     "name": "stdout",
     "output_type": "stream",
     "text": [
      "66/66 - 0s - loss: 3.1028 - accuracy: 0.6590\n",
      "test_loss: 3.102796792984009 \n",
      "test_accuracy: 0.6590476036071777\n"
     ]
    }
   ],
   "source": [
    "test_loss, test_accuracy = model.evaluate(x_test_norm, y_test, verbose=2)\n",
    "print(\"test_loss: {} \".format(test_loss))\n",
    "print(\"test_accuracy: {}\".format(test_accuracy))\n",
    "\n",
    "#Conv2D:32=0.7090/25=0.7166/20=0.6490\n",
    "#Conv2D:64=0.7166/50=0.6661/70=0.6666/60= 0.6719 이런식으로 해보려 했으나 할때마다 값이 달라 한것중에 제일 높았던 상태인 \n",
    "#epoch 25/25/64/64 Dense는 하려다가 할때마다 값이 달라지는것을 알고 하지 않았습니다."
   ]
  },
  {
   "cell_type": "code",
   "execution_count": null,
   "id": "c5ebb80a",
   "metadata": {},
   "outputs": [],
   "source": [
    "#처음에는 너무 확률이 말도 안되게 낮게 나와서 코딩의 실수인줄 알고 다른것을 계속 건드려 보고 찾아봤는데 변화가 없었다 그래서 거의 \n",
    "#포기 직전이였는데 다른 사람들 데이터를 보니 나의 데이터 보다 몇배는 훨씬 많은것을 보고 데이터량을 확연하게 늘렸더니 정상적인 값이\n",
    "#나왔다. 그리고 좀 더 확률을 높이려 딥러닝의 변수를 다르게 하여 실행시켜 봤는데 변수의 변화보다 그냥 할때마다 달라지는걸 알고 거기서 멈\n",
    "#추고 가장 높은값이 나왔던 변수로 고정시키고 종료하였다."
   ]
  }
 ],
 "metadata": {
  "kernelspec": {
   "display_name": "Python 3 (ipykernel)",
   "language": "python",
   "name": "python3"
  },
  "language_info": {
   "codemirror_mode": {
    "name": "ipython",
    "version": 3
   },
   "file_extension": ".py",
   "mimetype": "text/x-python",
   "name": "python",
   "nbconvert_exporter": "python",
   "pygments_lexer": "ipython3",
   "version": "3.9.7"
  }
 },
 "nbformat": 4,
 "nbformat_minor": 5
}
